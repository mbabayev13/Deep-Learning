{
  "nbformat": 4,
  "nbformat_minor": 0,
  "metadata": {
    "colab": {
      "provenance": [],
      "collapsed_sections": [
        "pqMAf7UV0W_r",
        "enshTI2ii27E",
        "4Jn4z6DhllTg",
        "tgVgd623vahr",
        "ouY_hD_n8cOv",
        "HxK1xHFO9SPr",
        "ULpu4G0w-Pk-",
        "v-2_vFboBlZu",
        "PdI_j6lAHLLW",
        "7jZXEzrVIF8L",
        "qhu4hNHBJLbI",
        "dAs8X4ekK4Cy",
        "69yVckQPPa7n",
        "c4REVgE4VUgG",
        "jZ0YnVjt2WpX",
        "mAEIMwE_3Cyt",
        "4lG09eTK7bjR",
        "uv3sJjoD-TQc",
        "pMz4-lrfCFAx"
      ]
    },
    "kernelspec": {
      "name": "python3",
      "display_name": "Python 3"
    },
    "language_info": {
      "name": "python"
    },
    "accelerator": "GPU",
    "gpuClass": "standard"
  },
  "cells": [
    {
      "cell_type": "code",
      "source": [
        "# Create data to view and fit\n",
        "\n",
        "import tensorflow as tf\n",
        "import matplotlib.pyplot as plot\n",
        "\n",
        "# Create features\n",
        "X = tf.constant([-7.0, -4.0, -1.0, 2.0, 5.0, 8.0, 11.0, 14.0])\n",
        "\n",
        "# Create labels\n",
        "y = tf.constant([3.0, 6.0, 9.0, 12.0, 15.0, 18.0, 21.0, 24.0])\n",
        "\n",
        "# Visualise\n",
        "plot.scatter(X, y)"
      ],
      "metadata": {
        "colab": {
          "base_uri": "https://localhost:8080/",
          "height": 452
        },
        "id": "oDLinJCqExen",
        "outputId": "d1f331e8-5fa6-4329-8222-4c946c067e2d"
      },
      "execution_count": 1,
      "outputs": [
        {
          "output_type": "execute_result",
          "data": {
            "text/plain": [
              "<matplotlib.collections.PathCollection at 0x7f2ab0215bd0>"
            ]
          },
          "metadata": {},
          "execution_count": 1
        },
        {
          "output_type": "display_data",
          "data": {
            "text/plain": [
              "<Figure size 640x480 with 1 Axes>"
            ],
            "image/png": "[encoded data removed]"
          },
          "metadata": {}
        }
      ]
    },
    {
      "cell_type": "code",
      "source": [
        "# Set the random seed\n",
        "tf.random.set_seed(4)"
      ],
      "metadata": {
        "id": "zcuqielwjRsz"
      },
      "execution_count": 2,
      "outputs": []
    },
    {
      "cell_type": "markdown",
      "source": [
        "1.   Create a Model using the Sequential API"
      ],
      "metadata": {
        "id": "GS3RxaaUi7PB"
      }
    },
    {
      "cell_type": "code",
      "source": [
        "model = tf.keras.Sequential([\n",
        "    tf.keras.layers.Dense(1)\n",
        "])"
      ],
      "metadata": {
        "id": "qrzt4kHXi_Fj"
      },
      "execution_count": 3,
      "outputs": []
    },
    {
      "cell_type": "markdown",
      "source": [
        "2. Compile the Model"
      ],
      "metadata": {
        "id": "VdwsZl40jpac"
      }
    },
    {
      "cell_type": "code",
      "source": [
        "model.compile(loss = tf.keras.losses.mae,\n",
        "              optimizer = tf.keras.optimizers.SGD(),\n",
        "              metrics = [\"mae\"])"
      ],
      "metadata": {
        "id": "tCgjm8UYjvQj"
      },
      "execution_count": 4,
      "outputs": []
    },
    {
      "cell_type": "markdown",
      "source": [
        "3. Fit the model"
      ],
      "metadata": {
        "id": "qcjXcez5kMgU"
      }
    },
    {
      "cell_type": "code",
      "source": [
        "model.fit(tf.expand_dims(X, axis = -1), y, epochs = 5)"
      ],
      "metadata": {
        "colab": {
          "base_uri": "https://localhost:8080/"
        },
        "id": "A-HgaYQSkTUW",
        "outputId": "6fdeae31-51b3-445a-8dc0-2b215616458a"
      },
      "execution_count": 5,
      "outputs": [
        {
          "output_type": "stream",
          "name": "stdout",
          "text": [
            "Epoch 1/5\n",
            "1/1 [==============================] - 1s 1s/step - loss: 21.5599 - mae: 21.5599\n",
            "Epoch 2/5\n",
            "1/1 [==============================] - 0s 9ms/step - loss: 21.1668 - mae: 21.1668\n",
            "Epoch 3/5\n",
            "1/1 [==============================] - 0s 9ms/step - loss: 20.7737 - mae: 20.7737\n",
            "Epoch 4/5\n",
            "1/1 [==============================] - 0s 12ms/step - loss: 20.4147 - mae: 20.4147\n",
            "Epoch 5/5\n",
            "1/1 [==============================] - 0s 8ms/step - loss: 20.1335 - mae: 20.1335\n"
          ]
        },
        {
          "output_type": "execute_result",
          "data": {
            "text/plain": [
              "<keras.src.callbacks.History at 0x7f2aa0f159c0>"
            ]
          },
          "metadata": {},
          "execution_count": 5
        }
      ]
    },
    {
      "cell_type": "markdown",
      "source": [
        "Now that the Model is fitted, we can use it to make predictions"
      ],
      "metadata": {
        "id": "p7MLvgtIlIWh"
      }
    },
    {
      "cell_type": "code",
      "source": [
        "model.predict([17.0])"
      ],
      "metadata": {
        "colab": {
          "base_uri": "https://localhost:8080/"
        },
        "id": "oT2ok3avlN2T",
        "outputId": "7700733b-c754-4112-cf04-6dfb7c9f6d62"
      },
      "execution_count": 6,
      "outputs": [
        {
          "output_type": "stream",
          "name": "stdout",
          "text": [
            "1/1 [==============================] - 0s 114ms/step\n"
          ]
        },
        {
          "output_type": "execute_result",
          "data": {
            "text/plain": [
              "array([[-23.040548]], dtype=float32)"
            ]
          },
          "metadata": {},
          "execution_count": 6
        }
      ]
    },
    {
      "cell_type": "markdown",
      "source": [
        "#### Improving the Model"
      ],
      "metadata": {
        "id": "4Jn4z6DhllTg"
      }
    },
    {
      "cell_type": "markdown",
      "source": [
        "- By increasing the number of laps the model takes through the input data"
      ],
      "metadata": {
        "id": "JgfvLEcmpGjg"
      }
    },
    {
      "cell_type": "code",
      "source": [
        "model = tf.keras.Sequential([\n",
        "    tf.keras.layers.Dense(1)\n",
        "])\n",
        "\n",
        "model.compile(loss = tf.keras.losses.mae,\n",
        "              optimizer = tf.keras.optimizers.SGD(),\n",
        "              metrics = [\"mae\"])\n",
        "\n",
        "model.fit(tf.expand_dims(X, axis = -1), y, epochs = 100)"
      ],
      "metadata": {
        "colab": {
          "base_uri": "https://localhost:8080/"
        },
        "id": "d9IQzi24lSTd",
        "outputId": "7fd87d27-5c63-4935-e50f-e358566d1856"
      },
      "execution_count": 7,
      "outputs": [
        {
          "output_type": "stream",
          "name": "stdout",
          "text": [
            "Epoch 1/100\n",
            "1/1 [==============================] - 0s 460ms/step - loss: 17.8033 - mae: 17.8033\n",
            "Epoch 2/100\n",
            "1/1 [==============================] - 0s 9ms/step - loss: 17.5220 - mae: 17.5220\n",
            "Epoch 3/100\n",
            "1/1 [==============================] - 0s 13ms/step - loss: 17.2408 - mae: 17.2408\n",
            "Epoch 4/100\n",
            "1/1 [==============================] - 0s 10ms/step - loss: 16.9595 - mae: 16.9595\n",
            "Epoch 5/100\n",
            "1/1 [==============================] - 0s 10ms/step - loss: 16.6783 - mae: 16.6783\n",
            "Epoch 6/100\n",
            "1/1 [==============================] - 0s 10ms/step - loss: 16.3970 - mae: 16.3970\n",
            "Epoch 7/100\n",
            "1/1 [==============================] - 0s 9ms/step - loss: 16.1158 - mae: 16.1158\n",
            "Epoch 8/100\n",
            "1/1 [==============================] - 0s 9ms/step - loss: 15.8345 - mae: 15.8345\n",
            "Epoch 9/100\n",
            "1/1 [==============================] - 0s 9ms/step - loss: 15.5533 - mae: 15.5533\n",
            "Epoch 10/100\n",
            "1/1 [==============================] - 0s 9ms/step - loss: 15.2720 - mae: 15.2720\n",
            "Epoch 11/100\n",
            "1/1 [==============================] - 0s 10ms/step - loss: 14.9908 - mae: 14.9908\n",
            "Epoch 12/100\n",
            "1/1 [==============================] - 0s 12ms/step - loss: 14.7651 - mae: 14.7651\n",
            "Epoch 13/100\n",
            "1/1 [==============================] - 0s 12ms/step - loss: 14.6326 - mae: 14.6326\n",
            "Epoch 14/100\n",
            "1/1 [==============================] - 0s 11ms/step - loss: 14.5001 - mae: 14.5001\n",
            "Epoch 15/100\n",
            "1/1 [==============================] - 0s 9ms/step - loss: 14.3676 - mae: 14.3676\n",
            "Epoch 16/100\n",
            "1/1 [==============================] - 0s 15ms/step - loss: 14.2351 - mae: 14.2351\n",
            "Epoch 17/100\n",
            "1/1 [==============================] - 0s 13ms/step - loss: 14.1026 - mae: 14.1026\n",
            "Epoch 18/100\n",
            "1/1 [==============================] - 0s 14ms/step - loss: 13.9701 - mae: 13.9701\n",
            "Epoch 19/100\n",
            "1/1 [==============================] - 0s 10ms/step - loss: 13.8376 - mae: 13.8376\n",
            "Epoch 20/100\n",
            "1/1 [==============================] - 0s 11ms/step - loss: 13.7051 - mae: 13.7051\n",
            "Epoch 21/100\n",
            "1/1 [==============================] - 0s 9ms/step - loss: 13.5726 - mae: 13.5726\n",
            "Epoch 22/100\n",
            "1/1 [==============================] - 0s 10ms/step - loss: 13.4401 - mae: 13.4401\n",
            "Epoch 23/100\n",
            "1/1 [==============================] - 0s 9ms/step - loss: 13.3076 - mae: 13.3076\n",
            "Epoch 24/100\n",
            "1/1 [==============================] - 0s 11ms/step - loss: 13.1751 - mae: 13.1751\n",
            "Epoch 25/100\n",
            "1/1 [==============================] - 0s 10ms/step - loss: 13.0426 - mae: 13.0426\n",
            "Epoch 26/100\n",
            "1/1 [==============================] - 0s 10ms/step - loss: 12.9101 - mae: 12.9101\n",
            "Epoch 27/100\n",
            "1/1 [==============================] - 0s 12ms/step - loss: 12.7776 - mae: 12.7776\n",
            "Epoch 28/100\n",
            "1/1 [==============================] - 0s 10ms/step - loss: 12.6451 - mae: 12.6451\n",
            "Epoch 29/100\n",
            "1/1 [==============================] - 0s 9ms/step - loss: 12.5126 - mae: 12.5126\n",
            "Epoch 30/100\n",
            "1/1 [==============================] - 0s 9ms/step - loss: 12.3801 - mae: 12.3801\n",
            "Epoch 31/100\n",
            "1/1 [==============================] - 0s 13ms/step - loss: 12.2476 - mae: 12.2476\n",
            "Epoch 32/100\n",
            "1/1 [==============================] - 0s 12ms/step - loss: 12.1151 - mae: 12.1151\n",
            "Epoch 33/100\n",
            "1/1 [==============================] - 0s 10ms/step - loss: 11.9826 - mae: 11.9826\n",
            "Epoch 34/100\n",
            "1/1 [==============================] - 0s 9ms/step - loss: 11.8501 - mae: 11.8501\n",
            "Epoch 35/100\n",
            "1/1 [==============================] - 0s 9ms/step - loss: 11.7176 - mae: 11.7176\n",
            "Epoch 36/100\n",
            "1/1 [==============================] - 0s 9ms/step - loss: 11.5851 - mae: 11.5851\n",
            "Epoch 37/100\n",
            "1/1 [==============================] - 0s 9ms/step - loss: 11.4526 - mae: 11.4526\n",
            "Epoch 38/100\n",
            "1/1 [==============================] - 0s 9ms/step - loss: 11.3201 - mae: 11.3201\n",
            "Epoch 39/100\n",
            "1/1 [==============================] - 0s 10ms/step - loss: 11.1876 - mae: 11.1876\n",
            "Epoch 40/100\n",
            "1/1 [==============================] - 0s 10ms/step - loss: 11.0551 - mae: 11.0551\n",
            "Epoch 41/100\n",
            "1/1 [==============================] - 0s 9ms/step - loss: 10.9226 - mae: 10.9226\n",
            "Epoch 42/100\n",
            "1/1 [==============================] - 0s 9ms/step - loss: 10.7901 - mae: 10.7901\n",
            "Epoch 43/100\n",
            "1/1 [==============================] - 0s 11ms/step - loss: 10.6576 - mae: 10.6576\n",
            "Epoch 44/100\n",
            "1/1 [==============================] - 0s 12ms/step - loss: 10.5251 - mae: 10.5251\n",
            "Epoch 45/100\n",
            "1/1 [==============================] - 0s 10ms/step - loss: 10.3926 - mae: 10.3926\n",
            "Epoch 46/100\n",
            "1/1 [==============================] - 0s 9ms/step - loss: 10.2601 - mae: 10.2601\n",
            "Epoch 47/100\n",
            "1/1 [==============================] - 0s 9ms/step - loss: 10.1276 - mae: 10.1276\n",
            "Epoch 48/100\n",
            "1/1 [==============================] - 0s 10ms/step - loss: 9.9951 - mae: 9.9951\n",
            "Epoch 49/100\n",
            "1/1 [==============================] - 0s 9ms/step - loss: 9.8626 - mae: 9.8626\n",
            "Epoch 50/100\n",
            "1/1 [==============================] - 0s 10ms/step - loss: 9.7301 - mae: 9.7301\n",
            "Epoch 51/100\n",
            "1/1 [==============================] - 0s 10ms/step - loss: 9.5976 - mae: 9.5976\n",
            "Epoch 52/100\n",
            "1/1 [==============================] - 0s 10ms/step - loss: 9.4651 - mae: 9.4651\n",
            "Epoch 53/100\n",
            "1/1 [==============================] - 0s 9ms/step - loss: 9.3326 - mae: 9.3326\n",
            "Epoch 54/100\n",
            "1/1 [==============================] - 0s 9ms/step - loss: 9.2001 - mae: 9.2001\n",
            "Epoch 55/100\n",
            "1/1 [==============================] - 0s 13ms/step - loss: 9.0676 - mae: 9.0676\n",
            "Epoch 56/100\n",
            "1/1 [==============================] - 0s 15ms/step - loss: 8.9351 - mae: 8.9351\n",
            "Epoch 57/100\n",
            "1/1 [==============================] - 0s 14ms/step - loss: 8.8026 - mae: 8.8026\n",
            "Epoch 58/100\n",
            "1/1 [==============================] - 0s 11ms/step - loss: 8.6701 - mae: 8.6701\n",
            "Epoch 59/100\n",
            "1/1 [==============================] - 0s 13ms/step - loss: 8.5376 - mae: 8.5376\n",
            "Epoch 60/100\n",
            "1/1 [==============================] - 0s 11ms/step - loss: 8.4051 - mae: 8.4051\n",
            "Epoch 61/100\n",
            "1/1 [==============================] - 0s 12ms/step - loss: 8.2726 - mae: 8.2726\n",
            "Epoch 62/100\n",
            "1/1 [==============================] - 0s 10ms/step - loss: 8.1401 - mae: 8.1401\n",
            "Epoch 63/100\n",
            "1/1 [==============================] - 0s 9ms/step - loss: 8.0076 - mae: 8.0076\n",
            "Epoch 64/100\n",
            "1/1 [==============================] - 0s 12ms/step - loss: 7.8751 - mae: 7.8751\n",
            "Epoch 65/100\n",
            "1/1 [==============================] - 0s 15ms/step - loss: 7.7426 - mae: 7.7426\n",
            "Epoch 66/100\n",
            "1/1 [==============================] - 0s 14ms/step - loss: 7.6101 - mae: 7.6101\n",
            "Epoch 67/100\n",
            "1/1 [==============================] - 0s 13ms/step - loss: 7.4776 - mae: 7.4776\n",
            "Epoch 68/100\n",
            "1/1 [==============================] - 0s 12ms/step - loss: 7.3451 - mae: 7.3451\n",
            "Epoch 69/100\n",
            "1/1 [==============================] - 0s 10ms/step - loss: 7.2126 - mae: 7.2126\n",
            "Epoch 70/100\n",
            "1/1 [==============================] - 0s 12ms/step - loss: 7.0801 - mae: 7.0801\n",
            "Epoch 71/100\n",
            "1/1 [==============================] - 0s 12ms/step - loss: 6.9956 - mae: 6.9956\n",
            "Epoch 72/100\n",
            "1/1 [==============================] - 0s 16ms/step - loss: 6.9900 - mae: 6.9900\n",
            "Epoch 73/100\n",
            "1/1 [==============================] - 0s 12ms/step - loss: 6.9844 - mae: 6.9844\n",
            "Epoch 74/100\n",
            "1/1 [==============================] - 0s 11ms/step - loss: 6.9788 - mae: 6.9788\n",
            "Epoch 75/100\n",
            "1/1 [==============================] - 0s 14ms/step - loss: 6.9731 - mae: 6.9731\n",
            "Epoch 76/100\n",
            "1/1 [==============================] - 0s 11ms/step - loss: 6.9675 - mae: 6.9675\n",
            "Epoch 77/100\n",
            "1/1 [==============================] - 0s 10ms/step - loss: 6.9619 - mae: 6.9619\n",
            "Epoch 78/100\n",
            "1/1 [==============================] - 0s 9ms/step - loss: 6.9563 - mae: 6.9563\n",
            "Epoch 79/100\n",
            "1/1 [==============================] - 0s 10ms/step - loss: 6.9506 - mae: 6.9506\n",
            "Epoch 80/100\n",
            "1/1 [==============================] - 0s 10ms/step - loss: 6.9450 - mae: 6.9450\n",
            "Epoch 81/100\n",
            "1/1 [==============================] - 0s 10ms/step - loss: 6.9394 - mae: 6.9394\n",
            "Epoch 82/100\n",
            "1/1 [==============================] - 0s 10ms/step - loss: 6.9338 - mae: 6.9338\n",
            "Epoch 83/100\n",
            "1/1 [==============================] - 0s 11ms/step - loss: 6.9281 - mae: 6.9281\n",
            "Epoch 84/100\n",
            "1/1 [==============================] - 0s 13ms/step - loss: 6.9225 - mae: 6.9225\n",
            "Epoch 85/100\n",
            "1/1 [==============================] - 0s 12ms/step - loss: 6.9169 - mae: 6.9169\n",
            "Epoch 86/100\n",
            "1/1 [==============================] - 0s 14ms/step - loss: 6.9113 - mae: 6.9113\n",
            "Epoch 87/100\n",
            "1/1 [==============================] - 0s 11ms/step - loss: 6.9056 - mae: 6.9056\n",
            "Epoch 88/100\n",
            "1/1 [==============================] - 0s 11ms/step - loss: 6.9000 - mae: 6.9000\n",
            "Epoch 89/100\n",
            "1/1 [==============================] - 0s 10ms/step - loss: 6.8944 - mae: 6.8944\n",
            "Epoch 90/100\n",
            "1/1 [==============================] - 0s 12ms/step - loss: 6.8888 - mae: 6.8888\n",
            "Epoch 91/100\n",
            "1/1 [==============================] - 0s 13ms/step - loss: 6.8831 - mae: 6.8831\n",
            "Epoch 92/100\n",
            "1/1 [==============================] - 0s 12ms/step - loss: 6.8775 - mae: 6.8775\n",
            "Epoch 93/100\n",
            "1/1 [==============================] - 0s 12ms/step - loss: 6.8719 - mae: 6.8719\n",
            "Epoch 94/100\n",
            "1/1 [==============================] - 0s 16ms/step - loss: 6.8663 - mae: 6.8663\n",
            "Epoch 95/100\n",
            "1/1 [==============================] - 0s 17ms/step - loss: 6.8606 - mae: 6.8606\n",
            "Epoch 96/100\n",
            "1/1 [==============================] - 0s 11ms/step - loss: 6.8550 - mae: 6.8550\n",
            "Epoch 97/100\n",
            "1/1 [==============================] - 0s 10ms/step - loss: 6.8494 - mae: 6.8494\n",
            "Epoch 98/100\n",
            "1/1 [==============================] - 0s 11ms/step - loss: 6.8438 - mae: 6.8438\n",
            "Epoch 99/100\n",
            "1/1 [==============================] - 0s 10ms/step - loss: 6.8381 - mae: 6.8381\n",
            "Epoch 100/100\n",
            "1/1 [==============================] - 0s 10ms/step - loss: 6.8325 - mae: 6.8325\n"
          ]
        },
        {
          "output_type": "execute_result",
          "data": {
            "text/plain": [
              "<keras.src.callbacks.History at 0x7f2a6215c490>"
            ]
          },
          "metadata": {},
          "execution_count": 7
        }
      ]
    },
    {
      "cell_type": "code",
      "source": [
        "model.predict([17.0])"
      ],
      "metadata": {
        "colab": {
          "base_uri": "https://localhost:8080/"
        },
        "id": "sJMIcn-6mRFl",
        "outputId": "add9e935-b699-4995-c481-1d19e2171f8e"
      },
      "execution_count": 8,
      "outputs": [
        {
          "output_type": "stream",
          "name": "stdout",
          "text": [
            "1/1 [==============================] - 0s 122ms/step\n"
          ]
        },
        {
          "output_type": "execute_result",
          "data": {
            "text/plain": [
              "array([[29.457012]], dtype=float32)"
            ]
          },
          "metadata": {},
          "execution_count": 8
        }
      ]
    },
    {
      "cell_type": "markdown",
      "source": [
        "- By Adding a Hidden Layer to the model"
      ],
      "metadata": {
        "id": "kbwLYkGaqT_t"
      }
    },
    {
      "cell_type": "code",
      "source": [
        "model = tf.keras.Sequential([\n",
        "    tf.keras.layers.Dense(100, activation = 'relu'),\n",
        "    tf.keras.layers.Dense(1)\n",
        "])\n",
        "\n",
        "model.compile(loss = tf.keras.losses.mae,\n",
        "              optimizer = tf.keras.optimizers.SGD(),\n",
        "              metrics = ['mae'])\n",
        "\n",
        "model.fit(tf.expand_dims(X, axis = -1), y, epochs = 100)"
      ],
      "metadata": {
        "colab": {
          "base_uri": "https://localhost:8080/"
        },
        "id": "VzPCgcO3o6xS",
        "outputId": "142562ed-10b2-479a-d7a9-c90f9919b64b"
      },
      "execution_count": 9,
      "outputs": [
        {
          "output_type": "stream",
          "name": "stdout",
          "text": [
            "Epoch 1/100\n",
            "1/1 [==============================] - 1s 792ms/step - loss: 12.6769 - mae: 12.6769\n",
            "Epoch 2/100\n",
            "1/1 [==============================] - 0s 10ms/step - loss: 12.1180 - mae: 12.1180\n",
            "Epoch 3/100\n",
            "1/1 [==============================] - 0s 8ms/step - loss: 11.5512 - mae: 11.5512\n",
            "Epoch 4/100\n",
            "1/1 [==============================] - 0s 9ms/step - loss: 10.9787 - mae: 10.9787\n",
            "Epoch 5/100\n",
            "1/1 [==============================] - 0s 9ms/step - loss: 10.3891 - mae: 10.3891\n",
            "Epoch 6/100\n",
            "1/1 [==============================] - 0s 9ms/step - loss: 9.7731 - mae: 9.7731\n",
            "Epoch 7/100\n",
            "1/1 [==============================] - 0s 9ms/step - loss: 9.1373 - mae: 9.1373\n",
            "Epoch 8/100\n",
            "1/1 [==============================] - 0s 8ms/step - loss: 8.4642 - mae: 8.4642\n",
            "Epoch 9/100\n",
            "1/1 [==============================] - 0s 8ms/step - loss: 7.7536 - mae: 7.7536\n",
            "Epoch 10/100\n",
            "1/1 [==============================] - 0s 8ms/step - loss: 6.9948 - mae: 6.9948\n",
            "Epoch 11/100\n",
            "1/1 [==============================] - 0s 8ms/step - loss: 6.1861 - mae: 6.1861\n",
            "Epoch 12/100\n",
            "1/1 [==============================] - 0s 9ms/step - loss: 5.3132 - mae: 5.3132\n",
            "Epoch 13/100\n",
            "1/1 [==============================] - 0s 8ms/step - loss: 4.3671 - mae: 4.3671\n",
            "Epoch 14/100\n",
            "1/1 [==============================] - 0s 8ms/step - loss: 3.9860 - mae: 3.9860\n",
            "Epoch 15/100\n",
            "1/1 [==============================] - 0s 9ms/step - loss: 4.0007 - mae: 4.0007\n",
            "Epoch 16/100\n",
            "1/1 [==============================] - 0s 9ms/step - loss: 3.9127 - mae: 3.9127\n",
            "Epoch 17/100\n",
            "1/1 [==============================] - 0s 8ms/step - loss: 3.9680 - mae: 3.9680\n",
            "Epoch 18/100\n",
            "1/1 [==============================] - 0s 8ms/step - loss: 3.9196 - mae: 3.9196\n",
            "Epoch 19/100\n",
            "1/1 [==============================] - 0s 9ms/step - loss: 3.9432 - mae: 3.9432\n",
            "Epoch 20/100\n",
            "1/1 [==============================] - 0s 9ms/step - loss: 3.9306 - mae: 3.9306\n",
            "Epoch 21/100\n",
            "1/1 [==============================] - 0s 8ms/step - loss: 3.9250 - mae: 3.9250\n",
            "Epoch 22/100\n",
            "1/1 [==============================] - 0s 8ms/step - loss: 3.9413 - mae: 3.9413\n",
            "Epoch 23/100\n",
            "1/1 [==============================] - 0s 10ms/step - loss: 3.8998 - mae: 3.8998\n",
            "Epoch 24/100\n",
            "1/1 [==============================] - 0s 9ms/step - loss: 3.9486 - mae: 3.9486\n",
            "Epoch 25/100\n",
            "1/1 [==============================] - 0s 10ms/step - loss: 3.8814 - mae: 3.8814\n",
            "Epoch 26/100\n",
            "1/1 [==============================] - 0s 9ms/step - loss: 3.9481 - mae: 3.9481\n",
            "Epoch 27/100\n",
            "1/1 [==============================] - 0s 10ms/step - loss: 3.8886 - mae: 3.8886\n",
            "Epoch 28/100\n",
            "1/1 [==============================] - 0s 9ms/step - loss: 3.9245 - mae: 3.9245\n",
            "Epoch 29/100\n",
            "1/1 [==============================] - 0s 9ms/step - loss: 3.9033 - mae: 3.9033\n",
            "Epoch 30/100\n",
            "1/1 [==============================] - 0s 9ms/step - loss: 3.9045 - mae: 3.9045\n",
            "Epoch 31/100\n",
            "1/1 [==============================] - 0s 9ms/step - loss: 3.9107 - mae: 3.9107\n",
            "Epoch 32/100\n",
            "1/1 [==============================] - 0s 8ms/step - loss: 3.8790 - mae: 3.8790\n",
            "Epoch 33/100\n",
            "1/1 [==============================] - 0s 9ms/step - loss: 3.9181 - mae: 3.9181\n",
            "Epoch 34/100\n",
            "1/1 [==============================] - 0s 11ms/step - loss: 3.8534 - mae: 3.8534\n",
            "Epoch 35/100\n",
            "1/1 [==============================] - 0s 9ms/step - loss: 3.9257 - mae: 3.9257\n",
            "Epoch 36/100\n",
            "1/1 [==============================] - 0s 19ms/step - loss: 3.8586 - mae: 3.8586\n",
            "Epoch 37/100\n",
            "1/1 [==============================] - 0s 11ms/step - loss: 3.9074 - mae: 3.9074\n",
            "Epoch 38/100\n",
            "1/1 [==============================] - 0s 10ms/step - loss: 3.8736 - mae: 3.8736\n",
            "Epoch 39/100\n",
            "1/1 [==============================] - 0s 8ms/step - loss: 3.8827 - mae: 3.8827\n",
            "Epoch 40/100\n",
            "1/1 [==============================] - 0s 9ms/step - loss: 3.8811 - mae: 3.8811\n",
            "Epoch 41/100\n",
            "1/1 [==============================] - 0s 8ms/step - loss: 3.8570 - mae: 3.8570\n",
            "Epoch 42/100\n",
            "1/1 [==============================] - 0s 8ms/step - loss: 3.8888 - mae: 3.8888\n",
            "Epoch 43/100\n",
            "1/1 [==============================] - 0s 9ms/step - loss: 3.8311 - mae: 3.8311\n",
            "Epoch 44/100\n",
            "1/1 [==============================] - 0s 9ms/step - loss: 3.8966 - mae: 3.8966\n",
            "Epoch 45/100\n",
            "1/1 [==============================] - 0s 9ms/step - loss: 3.8327 - mae: 3.8327\n",
            "Epoch 46/100\n",
            "1/1 [==============================] - 0s 9ms/step - loss: 3.8854 - mae: 3.8854\n",
            "Epoch 47/100\n",
            "1/1 [==============================] - 0s 12ms/step - loss: 3.8450 - mae: 3.8450\n",
            "Epoch 48/100\n",
            "1/1 [==============================] - 0s 10ms/step - loss: 3.8596 - mae: 3.8596\n",
            "Epoch 49/100\n",
            "1/1 [==============================] - 0s 9ms/step - loss: 3.8527 - mae: 3.8527\n",
            "Epoch 50/100\n",
            "1/1 [==============================] - 0s 8ms/step - loss: 3.8336 - mae: 3.8336\n",
            "Epoch 51/100\n",
            "1/1 [==============================] - 0s 9ms/step - loss: 3.8606 - mae: 3.8606\n",
            "Epoch 52/100\n",
            "1/1 [==============================] - 0s 8ms/step - loss: 3.8075 - mae: 3.8075\n",
            "Epoch 53/100\n",
            "1/1 [==============================] - 0s 13ms/step - loss: 3.8686 - mae: 3.8686\n",
            "Epoch 54/100\n",
            "1/1 [==============================] - 0s 11ms/step - loss: 3.8092 - mae: 3.8092\n",
            "Epoch 55/100\n",
            "1/1 [==============================] - 0s 9ms/step - loss: 3.8614 - mae: 3.8614\n",
            "Epoch 56/100\n",
            "1/1 [==============================] - 0s 9ms/step - loss: 3.8175 - mae: 3.8175\n",
            "Epoch 57/100\n",
            "1/1 [==============================] - 0s 9ms/step - loss: 3.8352 - mae: 3.8352\n",
            "Epoch 58/100\n",
            "1/1 [==============================] - 0s 9ms/step - loss: 3.8255 - mae: 3.8255\n",
            "Epoch 59/100\n",
            "1/1 [==============================] - 0s 9ms/step - loss: 3.8090 - mae: 3.8090\n",
            "Epoch 60/100\n",
            "1/1 [==============================] - 0s 9ms/step - loss: 3.8335 - mae: 3.8335\n",
            "Epoch 61/100\n",
            "1/1 [==============================] - 0s 13ms/step - loss: 3.7826 - mae: 3.7826\n",
            "Epoch 62/100\n",
            "1/1 [==============================] - 0s 9ms/step - loss: 3.8452 - mae: 3.8452\n",
            "Epoch 63/100\n",
            "1/1 [==============================] - 0s 9ms/step - loss: 3.7831 - mae: 3.7831\n",
            "Epoch 64/100\n",
            "1/1 [==============================] - 0s 8ms/step - loss: 3.8360 - mae: 3.8360\n",
            "Epoch 65/100\n",
            "1/1 [==============================] - 0s 8ms/step - loss: 3.7911 - mae: 3.7911\n",
            "Epoch 66/100\n",
            "1/1 [==============================] - 0s 8ms/step - loss: 3.8096 - mae: 3.8096\n",
            "Epoch 67/100\n",
            "1/1 [==============================] - 0s 10ms/step - loss: 3.7993 - mae: 3.7993\n",
            "Epoch 68/100\n",
            "1/1 [==============================] - 0s 9ms/step - loss: 3.7831 - mae: 3.7831\n",
            "Epoch 69/100\n",
            "1/1 [==============================] - 0s 9ms/step - loss: 3.8075 - mae: 3.8075\n",
            "Epoch 70/100\n",
            "1/1 [==============================] - 0s 9ms/step - loss: 3.7570 - mae: 3.7570\n",
            "Epoch 71/100\n",
            "1/1 [==============================] - 0s 12ms/step - loss: 3.8232 - mae: 3.8232\n",
            "Epoch 72/100\n",
            "1/1 [==============================] - 0s 9ms/step - loss: 3.7576 - mae: 3.7576\n",
            "Epoch 73/100\n",
            "1/1 [==============================] - 0s 8ms/step - loss: 3.8094 - mae: 3.8094\n",
            "Epoch 74/100\n",
            "1/1 [==============================] - 0s 9ms/step - loss: 3.7658 - mae: 3.7658\n",
            "Epoch 75/100\n",
            "1/1 [==============================] - 0s 9ms/step - loss: 3.7826 - mae: 3.7826\n",
            "Epoch 76/100\n",
            "1/1 [==============================] - 0s 11ms/step - loss: 3.7742 - mae: 3.7742\n",
            "Epoch 77/100\n",
            "1/1 [==============================] - 0s 12ms/step - loss: 3.7558 - mae: 3.7558\n",
            "Epoch 78/100\n",
            "1/1 [==============================] - 0s 10ms/step - loss: 3.7826 - mae: 3.7826\n",
            "Epoch 79/100\n",
            "1/1 [==============================] - 0s 10ms/step - loss: 3.7331 - mae: 3.7331\n",
            "Epoch 80/100\n",
            "1/1 [==============================] - 0s 10ms/step - loss: 3.7985 - mae: 3.7985\n",
            "Epoch 81/100\n",
            "1/1 [==============================] - 0s 11ms/step - loss: 3.7331 - mae: 3.7331\n",
            "Epoch 82/100\n",
            "1/1 [==============================] - 0s 10ms/step - loss: 3.7813 - mae: 3.7813\n",
            "Epoch 83/100\n",
            "1/1 [==============================] - 0s 10ms/step - loss: 3.7415 - mae: 3.7415\n",
            "Epoch 84/100\n",
            "1/1 [==============================] - 0s 9ms/step - loss: 3.7543 - mae: 3.7543\n",
            "Epoch 85/100\n",
            "1/1 [==============================] - 0s 10ms/step - loss: 3.7501 - mae: 3.7501\n",
            "Epoch 86/100\n",
            "1/1 [==============================] - 0s 10ms/step - loss: 3.7272 - mae: 3.7272\n",
            "Epoch 87/100\n",
            "1/1 [==============================] - 0s 10ms/step - loss: 3.7594 - mae: 3.7594\n",
            "Epoch 88/100\n",
            "1/1 [==============================] - 0s 11ms/step - loss: 3.7065 - mae: 3.7065\n",
            "Epoch 89/100\n",
            "1/1 [==============================] - 0s 10ms/step - loss: 3.7748 - mae: 3.7748\n",
            "Epoch 90/100\n",
            "1/1 [==============================] - 0s 11ms/step - loss: 3.7096 - mae: 3.7096\n",
            "Epoch 91/100\n",
            "1/1 [==============================] - 0s 11ms/step - loss: 3.7521 - mae: 3.7521\n",
            "Epoch 92/100\n",
            "1/1 [==============================] - 0s 10ms/step - loss: 3.7183 - mae: 3.7183\n",
            "Epoch 93/100\n",
            "1/1 [==============================] - 0s 10ms/step - loss: 3.7247 - mae: 3.7247\n",
            "Epoch 94/100\n",
            "1/1 [==============================] - 0s 11ms/step - loss: 3.7270 - mae: 3.7270\n",
            "Epoch 95/100\n",
            "1/1 [==============================] - 0s 9ms/step - loss: 3.6973 - mae: 3.6973\n",
            "Epoch 96/100\n",
            "1/1 [==============================] - 0s 11ms/step - loss: 3.7400 - mae: 3.7400\n",
            "Epoch 97/100\n",
            "1/1 [==============================] - 0s 9ms/step - loss: 3.6785 - mae: 3.6785\n",
            "Epoch 98/100\n",
            "1/1 [==============================] - 0s 10ms/step - loss: 3.7489 - mae: 3.7489\n",
            "Epoch 99/100\n",
            "1/1 [==============================] - 0s 10ms/step - loss: 3.6872 - mae: 3.6872\n",
            "Epoch 100/100\n",
            "1/1 [==============================] - 0s 14ms/step - loss: 3.7214 - mae: 3.7214\n"
          ]
        },
        {
          "output_type": "execute_result",
          "data": {
            "text/plain": [
              "<keras.src.callbacks.History at 0x7f2a44551cc0>"
            ]
          },
          "metadata": {},
          "execution_count": 9
        }
      ]
    },
    {
      "cell_type": "code",
      "source": [
        "model.predict([17.0])"
      ],
      "metadata": {
        "colab": {
          "base_uri": "https://localhost:8080/"
        },
        "id": "nV-rAuGQrJgj",
        "outputId": "eb9f46dd-c82c-4a8b-e17d-02896b0dc427"
      },
      "execution_count": 10,
      "outputs": [
        {
          "output_type": "stream",
          "name": "stdout",
          "text": [
            "1/1 [==============================] - 0s 69ms/step\n"
          ]
        },
        {
          "output_type": "execute_result",
          "data": {
            "text/plain": [
              "array([[32.396133]], dtype=float32)"
            ]
          },
          "metadata": {},
          "execution_count": 10
        }
      ]
    },
    {
      "cell_type": "markdown",
      "source": [
        "- By Increasing the number of hidden units"
      ],
      "metadata": {
        "id": "0Cvr85YbtJFb"
      }
    },
    {
      "cell_type": "code",
      "source": [
        "model = tf.keras.Sequential([\n",
        "    tf.keras.layers.Dense(200, activation = 'relu'),\n",
        "    tf.keras.layers.Dense(1)\n",
        "])\n",
        "\n",
        "model.compile(loss = tf.keras.losses.mae,\n",
        "              optimizer = tf.keras.optimizers.SGD(),\n",
        "              metrics = ['mae'])\n",
        "\n",
        "model.fit(tf.expand_dims(X, axis = -1), y, epochs = 100)"
      ],
      "metadata": {
        "colab": {
          "base_uri": "https://localhost:8080/"
        },
        "id": "m7Dpd_CotJmg",
        "outputId": "b16a30ed-fd1a-4ae8-a2d5-7d280676f0e4"
      },
      "execution_count": 11,
      "outputs": [
        {
          "output_type": "stream",
          "name": "stdout",
          "text": [
            "Epoch 1/100\n",
            "1/1 [==============================] - 1s 588ms/step - loss: 13.2545 - mae: 13.2545\n",
            "Epoch 2/100\n",
            "1/1 [==============================] - 0s 12ms/step - loss: 12.7554 - mae: 12.7554\n",
            "Epoch 3/100\n",
            "1/1 [==============================] - 0s 11ms/step - loss: 12.2535 - mae: 12.2535\n",
            "Epoch 4/100\n",
            "1/1 [==============================] - 0s 10ms/step - loss: 11.7445 - mae: 11.7445\n",
            "Epoch 5/100\n",
            "1/1 [==============================] - 0s 11ms/step - loss: 11.2314 - mae: 11.2314\n",
            "Epoch 6/100\n",
            "1/1 [==============================] - 0s 11ms/step - loss: 10.6999 - mae: 10.6999\n",
            "Epoch 7/100\n",
            "1/1 [==============================] - 0s 11ms/step - loss: 10.1501 - mae: 10.1501\n",
            "Epoch 8/100\n",
            "1/1 [==============================] - 0s 10ms/step - loss: 9.5785 - mae: 9.5785\n",
            "Epoch 9/100\n",
            "1/1 [==============================] - 0s 10ms/step - loss: 8.9818 - mae: 8.9818\n",
            "Epoch 10/100\n",
            "1/1 [==============================] - 0s 12ms/step - loss: 8.3464 - mae: 8.3464\n",
            "Epoch 11/100\n",
            "1/1 [==============================] - 0s 11ms/step - loss: 7.6804 - mae: 7.6804\n",
            "Epoch 12/100\n",
            "1/1 [==============================] - 0s 10ms/step - loss: 7.0179 - mae: 7.0179\n",
            "Epoch 13/100\n",
            "1/1 [==============================] - 0s 11ms/step - loss: 6.3084 - mae: 6.3084\n",
            "Epoch 14/100\n",
            "1/1 [==============================] - 0s 11ms/step - loss: 5.5360 - mae: 5.5360\n",
            "Epoch 15/100\n",
            "1/1 [==============================] - 0s 10ms/step - loss: 4.6931 - mae: 4.6931\n",
            "Epoch 16/100\n",
            "1/1 [==============================] - 0s 12ms/step - loss: 4.0656 - mae: 4.0656\n",
            "Epoch 17/100\n",
            "1/1 [==============================] - 0s 10ms/step - loss: 3.9705 - mae: 3.9705\n",
            "Epoch 18/100\n",
            "1/1 [==============================] - 0s 13ms/step - loss: 3.9124 - mae: 3.9124\n",
            "Epoch 19/100\n",
            "1/1 [==============================] - 0s 13ms/step - loss: 3.9449 - mae: 3.9449\n",
            "Epoch 20/100\n",
            "1/1 [==============================] - 0s 10ms/step - loss: 3.9183 - mae: 3.9183\n",
            "Epoch 21/100\n",
            "1/1 [==============================] - 0s 10ms/step - loss: 3.9221 - mae: 3.9221\n",
            "Epoch 22/100\n",
            "1/1 [==============================] - 0s 10ms/step - loss: 3.9343 - mae: 3.9343\n",
            "Epoch 23/100\n",
            "1/1 [==============================] - 0s 10ms/step - loss: 3.9025 - mae: 3.9025\n",
            "Epoch 24/100\n",
            "1/1 [==============================] - 0s 10ms/step - loss: 3.9404 - mae: 3.9404\n",
            "Epoch 25/100\n",
            "1/1 [==============================] - 0s 14ms/step - loss: 3.8763 - mae: 3.8763\n",
            "Epoch 26/100\n",
            "1/1 [==============================] - 0s 9ms/step - loss: 3.9466 - mae: 3.9466\n",
            "Epoch 27/100\n",
            "1/1 [==============================] - 0s 10ms/step - loss: 3.8801 - mae: 3.8801\n",
            "Epoch 28/100\n",
            "1/1 [==============================] - 0s 9ms/step - loss: 3.9220 - mae: 3.9220\n",
            "Epoch 29/100\n",
            "1/1 [==============================] - 0s 12ms/step - loss: 3.8890 - mae: 3.8890\n",
            "Epoch 30/100\n",
            "1/1 [==============================] - 0s 10ms/step - loss: 3.9052 - mae: 3.9052\n",
            "Epoch 31/100\n",
            "1/1 [==============================] - 0s 11ms/step - loss: 3.9024 - mae: 3.9024\n",
            "Epoch 32/100\n",
            "1/1 [==============================] - 0s 11ms/step - loss: 3.8790 - mae: 3.8790\n",
            "Epoch 33/100\n",
            "1/1 [==============================] - 0s 11ms/step - loss: 3.9087 - mae: 3.9087\n",
            "Epoch 34/100\n",
            "1/1 [==============================] - 0s 10ms/step - loss: 3.8526 - mae: 3.8526\n",
            "Epoch 35/100\n",
            "1/1 [==============================] - 0s 13ms/step - loss: 3.9152 - mae: 3.9152\n",
            "Epoch 36/100\n",
            "1/1 [==============================] - 0s 10ms/step - loss: 3.8491 - mae: 3.8491\n",
            "Epoch 37/100\n",
            "1/1 [==============================] - 0s 12ms/step - loss: 3.9005 - mae: 3.9005\n",
            "Epoch 38/100\n",
            "1/1 [==============================] - 0s 12ms/step - loss: 3.8654 - mae: 3.8654\n",
            "Epoch 39/100\n",
            "1/1 [==============================] - 0s 11ms/step - loss: 3.8808 - mae: 3.8808\n",
            "Epoch 40/100\n",
            "1/1 [==============================] - 0s 12ms/step - loss: 3.8718 - mae: 3.8718\n",
            "Epoch 41/100\n",
            "1/1 [==============================] - 0s 10ms/step - loss: 3.8542 - mae: 3.8542\n",
            "Epoch 42/100\n",
            "1/1 [==============================] - 0s 10ms/step - loss: 3.8783 - mae: 3.8783\n",
            "Epoch 43/100\n",
            "1/1 [==============================] - 0s 11ms/step - loss: 3.8276 - mae: 3.8276\n",
            "Epoch 44/100\n",
            "1/1 [==============================] - 0s 10ms/step - loss: 3.8850 - mae: 3.8850\n",
            "Epoch 45/100\n",
            "1/1 [==============================] - 0s 9ms/step - loss: 3.8212 - mae: 3.8212\n",
            "Epoch 46/100\n",
            "1/1 [==============================] - 0s 10ms/step - loss: 3.8816 - mae: 3.8816\n",
            "Epoch 47/100\n",
            "1/1 [==============================] - 0s 10ms/step - loss: 3.8357 - mae: 3.8357\n",
            "Epoch 48/100\n",
            "1/1 [==============================] - 0s 9ms/step - loss: 3.8549 - mae: 3.8549\n",
            "Epoch 49/100\n",
            "1/1 [==============================] - 0s 10ms/step - loss: 3.8423 - mae: 3.8423\n",
            "Epoch 50/100\n",
            "1/1 [==============================] - 0s 10ms/step - loss: 3.8281 - mae: 3.8281\n",
            "Epoch 51/100\n",
            "1/1 [==============================] - 0s 11ms/step - loss: 3.8491 - mae: 3.8491\n",
            "Epoch 52/100\n",
            "1/1 [==============================] - 0s 12ms/step - loss: 3.8012 - mae: 3.8012\n",
            "Epoch 53/100\n",
            "1/1 [==============================] - 0s 11ms/step - loss: 3.8571 - mae: 3.8571\n",
            "Epoch 54/100\n",
            "1/1 [==============================] - 0s 13ms/step - loss: 3.8005 - mae: 3.8005\n",
            "Epoch 55/100\n",
            "1/1 [==============================] - 0s 8ms/step - loss: 3.8547 - mae: 3.8547\n",
            "Epoch 56/100\n",
            "1/1 [==============================] - 0s 11ms/step - loss: 3.8072 - mae: 3.8072\n",
            "Epoch 57/100\n",
            "1/1 [==============================] - 0s 10ms/step - loss: 3.8278 - mae: 3.8278\n",
            "Epoch 58/100\n",
            "1/1 [==============================] - 0s 10ms/step - loss: 3.8140 - mae: 3.8140\n",
            "Epoch 59/100\n",
            "1/1 [==============================] - 0s 12ms/step - loss: 3.8007 - mae: 3.8007\n",
            "Epoch 60/100\n",
            "1/1 [==============================] - 0s 11ms/step - loss: 3.8210 - mae: 3.8210\n",
            "Epoch 61/100\n",
            "1/1 [==============================] - 0s 12ms/step - loss: 3.7743 - mae: 3.7743\n",
            "Epoch 62/100\n",
            "1/1 [==============================] - 0s 11ms/step - loss: 3.8380 - mae: 3.8380\n",
            "Epoch 63/100\n",
            "1/1 [==============================] - 0s 10ms/step - loss: 3.7728 - mae: 3.7728\n",
            "Epoch 64/100\n",
            "1/1 [==============================] - 0s 11ms/step - loss: 3.8266 - mae: 3.8266\n",
            "Epoch 65/100\n",
            "1/1 [==============================] - 0s 9ms/step - loss: 3.7797 - mae: 3.7797\n",
            "Epoch 66/100\n",
            "1/1 [==============================] - 0s 9ms/step - loss: 3.7993 - mae: 3.7993\n",
            "Epoch 67/100\n",
            "1/1 [==============================] - 0s 11ms/step - loss: 3.7868 - mae: 3.7868\n",
            "Epoch 68/100\n",
            "1/1 [==============================] - 0s 9ms/step - loss: 3.7720 - mae: 3.7720\n",
            "Epoch 69/100\n",
            "1/1 [==============================] - 0s 11ms/step - loss: 3.7940 - mae: 3.7940\n",
            "Epoch 70/100\n",
            "1/1 [==============================] - 0s 10ms/step - loss: 3.7539 - mae: 3.7539\n",
            "Epoch 71/100\n",
            "1/1 [==============================] - 0s 11ms/step - loss: 3.8111 - mae: 3.8111\n",
            "Epoch 72/100\n",
            "1/1 [==============================] - 0s 10ms/step - loss: 3.7463 - mae: 3.7463\n",
            "Epoch 73/100\n",
            "1/1 [==============================] - 0s 10ms/step - loss: 3.7972 - mae: 3.7972\n",
            "Epoch 74/100\n",
            "1/1 [==============================] - 0s 9ms/step - loss: 3.7533 - mae: 3.7533\n",
            "Epoch 75/100\n",
            "1/1 [==============================] - 0s 9ms/step - loss: 3.7697 - mae: 3.7697\n",
            "Epoch 76/100\n",
            "1/1 [==============================] - 0s 10ms/step - loss: 3.7606 - mae: 3.7606\n",
            "Epoch 77/100\n",
            "1/1 [==============================] - 0s 10ms/step - loss: 3.7420 - mae: 3.7420\n",
            "Epoch 78/100\n",
            "1/1 [==============================] - 0s 10ms/step - loss: 3.7762 - mae: 3.7762\n",
            "Epoch 79/100\n",
            "1/1 [==============================] - 0s 10ms/step - loss: 3.7234 - mae: 3.7234\n",
            "Epoch 80/100\n",
            "1/1 [==============================] - 0s 11ms/step - loss: 3.7853 - mae: 3.7853\n",
            "Epoch 81/100\n",
            "1/1 [==============================] - 0s 10ms/step - loss: 3.7207 - mae: 3.7207\n",
            "Epoch 82/100\n",
            "1/1 [==============================] - 0s 11ms/step - loss: 3.7664 - mae: 3.7664\n",
            "Epoch 83/100\n",
            "1/1 [==============================] - 0s 10ms/step - loss: 3.7280 - mae: 3.7280\n",
            "Epoch 84/100\n",
            "1/1 [==============================] - 0s 11ms/step - loss: 3.7386 - mae: 3.7386\n",
            "Epoch 85/100\n",
            "1/1 [==============================] - 0s 11ms/step - loss: 3.7355 - mae: 3.7355\n",
            "Epoch 86/100\n",
            "1/1 [==============================] - 0s 10ms/step - loss: 3.7182 - mae: 3.7182\n",
            "Epoch 87/100\n",
            "1/1 [==============================] - 0s 8ms/step - loss: 3.7529 - mae: 3.7529\n",
            "Epoch 88/100\n",
            "1/1 [==============================] - 0s 10ms/step - loss: 3.6916 - mae: 3.6916\n",
            "Epoch 89/100\n",
            "1/1 [==============================] - 0s 11ms/step - loss: 3.7604 - mae: 3.7604\n",
            "Epoch 90/100\n",
            "1/1 [==============================] - 0s 10ms/step - loss: 3.6961 - mae: 3.6961\n",
            "Epoch 91/100\n",
            "1/1 [==============================] - 0s 10ms/step - loss: 3.7343 - mae: 3.7343\n",
            "Epoch 92/100\n",
            "1/1 [==============================] - 0s 9ms/step - loss: 3.7036 - mae: 3.7036\n",
            "Epoch 93/100\n",
            "1/1 [==============================] - 0s 9ms/step - loss: 3.7062 - mae: 3.7062\n",
            "Epoch 94/100\n",
            "1/1 [==============================] - 0s 9ms/step - loss: 3.7176 - mae: 3.7176\n",
            "Epoch 95/100\n",
            "1/1 [==============================] - 0s 11ms/step - loss: 3.6871 - mae: 3.6871\n",
            "Epoch 96/100\n",
            "1/1 [==============================] - 0s 12ms/step - loss: 3.7288 - mae: 3.7288\n",
            "Epoch 97/100\n",
            "1/1 [==============================] - 0s 10ms/step - loss: 3.6649 - mae: 3.6649\n",
            "Epoch 98/100\n",
            "1/1 [==============================] - 0s 10ms/step - loss: 3.7292 - mae: 3.7292\n",
            "Epoch 99/100\n",
            "1/1 [==============================] - 0s 11ms/step - loss: 3.6725 - mae: 3.6725\n",
            "Epoch 100/100\n",
            "1/1 [==============================] - 0s 10ms/step - loss: 3.7009 - mae: 3.7009\n"
          ]
        },
        {
          "output_type": "execute_result",
          "data": {
            "text/plain": [
              "<keras.src.callbacks.History at 0x7f2a4445c1c0>"
            ]
          },
          "metadata": {},
          "execution_count": 11
        }
      ]
    },
    {
      "cell_type": "code",
      "source": [
        "model.predict([-17.0])"
      ],
      "metadata": {
        "colab": {
          "base_uri": "https://localhost:8080/"
        },
        "id": "_JHXURCLtZdZ",
        "outputId": "b99cb6d3-b404-4fa4-eefb-05dd66ee194b"
      },
      "execution_count": 12,
      "outputs": [
        {
          "output_type": "stream",
          "name": "stdout",
          "text": [
            "1/1 [==============================] - 0s 58ms/step\n"
          ]
        },
        {
          "output_type": "execute_result",
          "data": {
            "text/plain": [
              "array([[6.3486576]], dtype=float32)"
            ]
          },
          "metadata": {},
          "execution_count": 12
        }
      ]
    },
    {
      "cell_type": "markdown",
      "source": [
        "- By Changing the Activation Functions"
      ],
      "metadata": {
        "id": "U3PQ6jKurMcD"
      }
    },
    {
      "cell_type": "code",
      "source": [
        "model = tf.keras.Sequential([\n",
        "    tf.keras.layers.Dense(100, activation = None),\n",
        "    tf.keras.layers.Dense(1)\n",
        "])\n",
        "\n",
        "model.compile(loss = tf.keras.losses.mae,\n",
        "              optimizer = tf.keras.optimizers.SGD(),\n",
        "              metrics = ['mae'])\n",
        "\n",
        "model.fit(tf.expand_dims(X, axis = -1), y, epochs = 100)"
      ],
      "metadata": {
        "colab": {
          "base_uri": "https://localhost:8080/"
        },
        "id": "xnxSYt7LsO01",
        "outputId": "d8b566fa-f077-41c5-b90d-22122e4c5923"
      },
      "execution_count": 13,
      "outputs": [
        {
          "output_type": "stream",
          "name": "stdout",
          "text": [
            "Epoch 1/100\n",
            "1/1 [==============================] - 0s 436ms/step - loss: 15.0284 - mae: 15.0284\n",
            "Epoch 2/100\n",
            "1/1 [==============================] - 0s 12ms/step - loss: 14.2238 - mae: 14.2238\n",
            "Epoch 3/100\n",
            "1/1 [==============================] - 0s 8ms/step - loss: 13.6868 - mae: 13.6868\n",
            "Epoch 4/100\n",
            "1/1 [==============================] - 0s 9ms/step - loss: 13.1522 - mae: 13.1522\n",
            "Epoch 5/100\n",
            "1/1 [==============================] - 0s 8ms/step - loss: 12.6174 - mae: 12.6174\n",
            "Epoch 6/100\n",
            "1/1 [==============================] - 0s 8ms/step - loss: 12.0794 - mae: 12.0794\n",
            "Epoch 7/100\n",
            "1/1 [==============================] - 0s 9ms/step - loss: 11.5356 - mae: 11.5356\n",
            "Epoch 8/100\n",
            "1/1 [==============================] - 0s 9ms/step - loss: 10.9830 - mae: 10.9830\n",
            "Epoch 9/100\n",
            "1/1 [==============================] - 0s 8ms/step - loss: 10.4190 - mae: 10.4190\n",
            "Epoch 10/100\n",
            "1/1 [==============================] - 0s 9ms/step - loss: 9.8405 - mae: 9.8405\n",
            "Epoch 11/100\n",
            "1/1 [==============================] - 0s 9ms/step - loss: 9.2445 - mae: 9.2445\n",
            "Epoch 12/100\n",
            "1/1 [==============================] - 0s 8ms/step - loss: 8.6281 - mae: 8.6281\n",
            "Epoch 13/100\n",
            "1/1 [==============================] - 0s 10ms/step - loss: 7.9881 - mae: 7.9881\n",
            "Epoch 14/100\n",
            "1/1 [==============================] - 0s 10ms/step - loss: 7.3211 - mae: 7.3211\n",
            "Epoch 15/100\n",
            "1/1 [==============================] - 0s 8ms/step - loss: 7.1539 - mae: 7.1539\n",
            "Epoch 16/100\n",
            "1/1 [==============================] - 0s 8ms/step - loss: 7.1327 - mae: 7.1327\n",
            "Epoch 17/100\n",
            "1/1 [==============================] - 0s 8ms/step - loss: 7.1115 - mae: 7.1115\n",
            "Epoch 18/100\n",
            "1/1 [==============================] - 0s 8ms/step - loss: 7.0902 - mae: 7.0902\n",
            "Epoch 19/100\n",
            "1/1 [==============================] - 0s 7ms/step - loss: 7.0688 - mae: 7.0688\n",
            "Epoch 20/100\n",
            "1/1 [==============================] - 0s 8ms/step - loss: 7.0473 - mae: 7.0473\n",
            "Epoch 21/100\n",
            "1/1 [==============================] - 0s 9ms/step - loss: 7.0258 - mae: 7.0258\n",
            "Epoch 22/100\n",
            "1/1 [==============================] - 0s 9ms/step - loss: 7.0042 - mae: 7.0042\n",
            "Epoch 23/100\n",
            "1/1 [==============================] - 0s 10ms/step - loss: 6.9826 - mae: 6.9826\n",
            "Epoch 24/100\n",
            "1/1 [==============================] - 0s 9ms/step - loss: 6.9710 - mae: 6.9710\n",
            "Epoch 25/100\n",
            "1/1 [==============================] - 0s 9ms/step - loss: 6.9524 - mae: 6.9524\n",
            "Epoch 26/100\n",
            "1/1 [==============================] - 0s 9ms/step - loss: 6.9310 - mae: 6.9310\n",
            "Epoch 27/100\n",
            "1/1 [==============================] - 0s 9ms/step - loss: 6.9096 - mae: 6.9096\n",
            "Epoch 28/100\n",
            "1/1 [==============================] - 0s 9ms/step - loss: 6.8881 - mae: 6.8881\n",
            "Epoch 29/100\n",
            "1/1 [==============================] - 0s 8ms/step - loss: 6.8665 - mae: 6.8665\n",
            "Epoch 30/100\n",
            "1/1 [==============================] - 0s 9ms/step - loss: 6.8448 - mae: 6.8448\n",
            "Epoch 31/100\n",
            "1/1 [==============================] - 0s 10ms/step - loss: 6.8229 - mae: 6.8229\n",
            "Epoch 32/100\n",
            "1/1 [==============================] - 0s 9ms/step - loss: 6.8010 - mae: 6.8010\n",
            "Epoch 33/100\n",
            "1/1 [==============================] - 0s 8ms/step - loss: 6.7790 - mae: 6.7790\n",
            "Epoch 34/100\n",
            "1/1 [==============================] - 0s 8ms/step - loss: 6.7568 - mae: 6.7568\n",
            "Epoch 35/100\n",
            "1/1 [==============================] - 0s 9ms/step - loss: 6.7346 - mae: 6.7346\n",
            "Epoch 36/100\n",
            "1/1 [==============================] - 0s 9ms/step - loss: 6.7122 - mae: 6.7122\n",
            "Epoch 37/100\n",
            "1/1 [==============================] - 0s 9ms/step - loss: 6.6897 - mae: 6.6897\n",
            "Epoch 38/100\n",
            "1/1 [==============================] - 0s 9ms/step - loss: 6.6670 - mae: 6.6670\n",
            "Epoch 39/100\n",
            "1/1 [==============================] - 0s 12ms/step - loss: 6.6442 - mae: 6.6442\n",
            "Epoch 40/100\n",
            "1/1 [==============================] - 0s 10ms/step - loss: 6.6213 - mae: 6.6213\n",
            "Epoch 41/100\n",
            "1/1 [==============================] - 0s 8ms/step - loss: 6.5983 - mae: 6.5983\n",
            "Epoch 42/100\n",
            "1/1 [==============================] - 0s 9ms/step - loss: 6.5751 - mae: 6.5751\n",
            "Epoch 43/100\n",
            "1/1 [==============================] - 0s 9ms/step - loss: 6.5517 - mae: 6.5517\n",
            "Epoch 44/100\n",
            "1/1 [==============================] - 0s 11ms/step - loss: 6.5282 - mae: 6.5282\n",
            "Epoch 45/100\n",
            "1/1 [==============================] - 0s 9ms/step - loss: 6.5046 - mae: 6.5046\n",
            "Epoch 46/100\n",
            "1/1 [==============================] - 0s 8ms/step - loss: 6.4807 - mae: 6.4807\n",
            "Epoch 47/100\n",
            "1/1 [==============================] - 0s 9ms/step - loss: 6.4567 - mae: 6.4567\n",
            "Epoch 48/100\n",
            "1/1 [==============================] - 0s 8ms/step - loss: 6.4326 - mae: 6.4326\n",
            "Epoch 49/100\n",
            "1/1 [==============================] - 0s 8ms/step - loss: 6.4083 - mae: 6.4083\n",
            "Epoch 50/100\n",
            "1/1 [==============================] - 0s 13ms/step - loss: 6.3985 - mae: 6.3985\n",
            "Epoch 51/100\n",
            "1/1 [==============================] - 0s 11ms/step - loss: 6.3800 - mae: 6.3800\n",
            "Epoch 52/100\n",
            "1/1 [==============================] - 0s 14ms/step - loss: 6.3557 - mae: 6.3557\n",
            "Epoch 53/100\n",
            "1/1 [==============================] - 0s 9ms/step - loss: 6.3312 - mae: 6.3312\n",
            "Epoch 54/100\n",
            "1/1 [==============================] - 0s 10ms/step - loss: 6.3066 - mae: 6.3066\n",
            "Epoch 55/100\n",
            "1/1 [==============================] - 0s 10ms/step - loss: 6.2817 - mae: 6.2817\n",
            "Epoch 56/100\n",
            "1/1 [==============================] - 0s 8ms/step - loss: 6.2567 - mae: 6.2567\n",
            "Epoch 57/100\n",
            "1/1 [==============================] - 0s 12ms/step - loss: 6.2314 - mae: 6.2314\n",
            "Epoch 58/100\n",
            "1/1 [==============================] - 0s 9ms/step - loss: 6.2060 - mae: 6.2060\n",
            "Epoch 59/100\n",
            "1/1 [==============================] - 0s 10ms/step - loss: 6.1803 - mae: 6.1803\n",
            "Epoch 60/100\n",
            "1/1 [==============================] - 0s 9ms/step - loss: 6.1544 - mae: 6.1544\n",
            "Epoch 61/100\n",
            "1/1 [==============================] - 0s 10ms/step - loss: 6.1283 - mae: 6.1283\n",
            "Epoch 62/100\n",
            "1/1 [==============================] - 0s 11ms/step - loss: 6.1020 - mae: 6.1020\n",
            "Epoch 63/100\n",
            "1/1 [==============================] - 0s 15ms/step - loss: 6.0754 - mae: 6.0754\n",
            "Epoch 64/100\n",
            "1/1 [==============================] - 0s 9ms/step - loss: 6.0486 - mae: 6.0486\n",
            "Epoch 65/100\n",
            "1/1 [==============================] - 0s 11ms/step - loss: 6.0216 - mae: 6.0216\n",
            "Epoch 66/100\n",
            "1/1 [==============================] - 0s 10ms/step - loss: 5.9943 - mae: 5.9943\n",
            "Epoch 67/100\n",
            "1/1 [==============================] - 0s 9ms/step - loss: 5.9668 - mae: 5.9668\n",
            "Epoch 68/100\n",
            "1/1 [==============================] - 0s 8ms/step - loss: 5.9390 - mae: 5.9390\n",
            "Epoch 69/100\n",
            "1/1 [==============================] - 0s 11ms/step - loss: 5.9235 - mae: 5.9235\n",
            "Epoch 70/100\n",
            "1/1 [==============================] - 0s 10ms/step - loss: 5.9090 - mae: 5.9090\n",
            "Epoch 71/100\n",
            "1/1 [==============================] - 0s 12ms/step - loss: 5.8810 - mae: 5.8810\n",
            "Epoch 72/100\n",
            "1/1 [==============================] - 0s 10ms/step - loss: 5.8528 - mae: 5.8528\n",
            "Epoch 73/100\n",
            "1/1 [==============================] - 0s 9ms/step - loss: 5.8243 - mae: 5.8243\n",
            "Epoch 74/100\n",
            "1/1 [==============================] - 0s 10ms/step - loss: 5.7955 - mae: 5.7955\n",
            "Epoch 75/100\n",
            "1/1 [==============================] - 0s 15ms/step - loss: 5.7664 - mae: 5.7664\n",
            "Epoch 76/100\n",
            "1/1 [==============================] - 0s 9ms/step - loss: 5.7370 - mae: 5.7370\n",
            "Epoch 77/100\n",
            "1/1 [==============================] - 0s 10ms/step - loss: 5.7074 - mae: 5.7074\n",
            "Epoch 78/100\n",
            "1/1 [==============================] - 0s 14ms/step - loss: 5.6774 - mae: 5.6774\n",
            "Epoch 79/100\n",
            "1/1 [==============================] - 0s 11ms/step - loss: 5.6472 - mae: 5.6472\n",
            "Epoch 80/100\n",
            "1/1 [==============================] - 0s 10ms/step - loss: 5.6166 - mae: 5.6166\n",
            "Epoch 81/100\n",
            "1/1 [==============================] - 0s 10ms/step - loss: 5.5857 - mae: 5.5857\n",
            "Epoch 82/100\n",
            "1/1 [==============================] - 0s 9ms/step - loss: 5.5545 - mae: 5.5545\n",
            "Epoch 83/100\n",
            "1/1 [==============================] - 0s 10ms/step - loss: 5.5230 - mae: 5.5230\n",
            "Epoch 84/100\n",
            "1/1 [==============================] - 0s 9ms/step - loss: 5.4911 - mae: 5.4911\n",
            "Epoch 85/100\n",
            "1/1 [==============================] - 0s 12ms/step - loss: 5.4609 - mae: 5.4609\n",
            "Epoch 86/100\n",
            "1/1 [==============================] - 0s 10ms/step - loss: 5.5211 - mae: 5.5211\n",
            "Epoch 87/100\n",
            "1/1 [==============================] - 0s 12ms/step - loss: 5.5724 - mae: 5.5724\n",
            "Epoch 88/100\n",
            "1/1 [==============================] - 0s 9ms/step - loss: 5.3883 - mae: 5.3883\n",
            "Epoch 89/100\n",
            "1/1 [==============================] - 0s 10ms/step - loss: 5.3552 - mae: 5.3552\n",
            "Epoch 90/100\n",
            "1/1 [==============================] - 0s 10ms/step - loss: 5.3217 - mae: 5.3217\n",
            "Epoch 91/100\n",
            "1/1 [==============================] - 0s 9ms/step - loss: 5.2879 - mae: 5.2879\n",
            "Epoch 92/100\n",
            "1/1 [==============================] - 0s 11ms/step - loss: 5.2537 - mae: 5.2537\n",
            "Epoch 93/100\n",
            "1/1 [==============================] - 0s 11ms/step - loss: 5.2191 - mae: 5.2191\n",
            "Epoch 94/100\n",
            "1/1 [==============================] - 0s 12ms/step - loss: 5.1841 - mae: 5.1841\n",
            "Epoch 95/100\n",
            "1/1 [==============================] - 0s 10ms/step - loss: 5.1488 - mae: 5.1488\n",
            "Epoch 96/100\n",
            "1/1 [==============================] - 0s 10ms/step - loss: 5.1130 - mae: 5.1130\n",
            "Epoch 97/100\n",
            "1/1 [==============================] - 0s 10ms/step - loss: 5.0980 - mae: 5.0980\n",
            "Epoch 98/100\n",
            "1/1 [==============================] - 0s 9ms/step - loss: 5.1710 - mae: 5.1710\n",
            "Epoch 99/100\n",
            "1/1 [==============================] - 0s 10ms/step - loss: 5.2135 - mae: 5.2135\n",
            "Epoch 100/100\n",
            "1/1 [==============================] - 0s 9ms/step - loss: 4.9971 - mae: 4.9971\n"
          ]
        },
        {
          "output_type": "execute_result",
          "data": {
            "text/plain": [
              "<keras.src.callbacks.History at 0x7f2a4453fd00>"
            ]
          },
          "metadata": {},
          "execution_count": 13
        }
      ]
    },
    {
      "cell_type": "code",
      "source": [
        "model.predict([17.0])"
      ],
      "metadata": {
        "colab": {
          "base_uri": "https://localhost:8080/"
        },
        "id": "0rAzn6lHsUpo",
        "outputId": "5fceb993-ff72-4843-a269-5bc3afe8c991"
      },
      "execution_count": 14,
      "outputs": [
        {
          "output_type": "stream",
          "name": "stderr",
          "text": [
            "WARNING:tensorflow:5 out of the last 5 calls to <function Model.make_predict_function.<locals>.predict_function at 0x7f2a444cac20> triggered tf.function retracing. Tracing is expensive and the excessive number of tracings could be due to (1) creating @tf.function repeatedly in a loop, (2) passing tensors with different shapes, (3) passing Python objects instead of tensors. For (1), please define your @tf.function outside of the loop. For (2), @tf.function has reduce_retracing=True option that can avoid unnecessary retracing. For (3), please refer to https://www.tensorflow.org/guide/function#controlling_retracing and https://www.tensorflow.org/api_docs/python/tf/function for  more details.\n"
          ]
        },
        {
          "output_type": "stream",
          "name": "stdout",
          "text": [
            "1/1 [==============================] - 0s 69ms/step\n"
          ]
        },
        {
          "output_type": "execute_result",
          "data": {
            "text/plain": [
              "array([[29.249235]], dtype=float32)"
            ]
          },
          "metadata": {},
          "execution_count": 14
        }
      ]
    },
    {
      "cell_type": "markdown",
      "source": [
        "- By Changing the Optimisation Functions"
      ],
      "metadata": {
        "id": "EJzwJmDJsWhO"
      }
    },
    {
      "cell_type": "code",
      "source": [
        "model = tf.keras.Sequential([\n",
        "    tf.keras.layers.Dense(100, activation = None),\n",
        "    tf.keras.layers.Dense(1)\n",
        "])\n",
        "\n",
        "model.compile(loss = tf.keras.losses.mae,\n",
        "              optimizer = tf.keras.optimizers.Adam(),\n",
        "              metrics = ['mae'])\n",
        "\n",
        "model.fit(tf.expand_dims(X, axis = -1), y, epochs = 100)"
      ],
      "metadata": {
        "colab": {
          "base_uri": "https://localhost:8080/"
        },
        "id": "yft5v6Cts9IH",
        "outputId": "9c7f2123-252a-4b8e-f0af-d6c33bb6f947"
      },
      "execution_count": 15,
      "outputs": [
        {
          "output_type": "stream",
          "name": "stdout",
          "text": [
            "Epoch 1/100\n",
            "1/1 [==============================] - 1s 864ms/step - loss: 13.0740 - mae: 13.0740\n",
            "Epoch 2/100\n",
            "1/1 [==============================] - 0s 10ms/step - loss: 12.9753 - mae: 12.9753\n",
            "Epoch 3/100\n",
            "1/1 [==============================] - 0s 8ms/step - loss: 12.8766 - mae: 12.8766\n",
            "Epoch 4/100\n",
            "1/1 [==============================] - 0s 9ms/step - loss: 12.7780 - mae: 12.7780\n",
            "Epoch 5/100\n",
            "1/1 [==============================] - 0s 9ms/step - loss: 12.6793 - mae: 12.6793\n",
            "Epoch 6/100\n",
            "1/1 [==============================] - 0s 9ms/step - loss: 12.5806 - mae: 12.5806\n",
            "Epoch 7/100\n",
            "1/1 [==============================] - 0s 9ms/step - loss: 12.4819 - mae: 12.4819\n",
            "Epoch 8/100\n",
            "1/1 [==============================] - 0s 9ms/step - loss: 12.3832 - mae: 12.3832\n",
            "Epoch 9/100\n",
            "1/1 [==============================] - 0s 9ms/step - loss: 12.2844 - mae: 12.2844\n",
            "Epoch 10/100\n",
            "1/1 [==============================] - 0s 8ms/step - loss: 12.1856 - mae: 12.1856\n",
            "Epoch 11/100\n",
            "1/1 [==============================] - 0s 8ms/step - loss: 12.0868 - mae: 12.0868\n",
            "Epoch 12/100\n",
            "1/1 [==============================] - 0s 9ms/step - loss: 11.9879 - mae: 11.9879\n",
            "Epoch 13/100\n",
            "1/1 [==============================] - 0s 11ms/step - loss: 11.8890 - mae: 11.8890\n",
            "Epoch 14/100\n",
            "1/1 [==============================] - 0s 8ms/step - loss: 11.7900 - mae: 11.7900\n",
            "Epoch 15/100\n",
            "1/1 [==============================] - 0s 11ms/step - loss: 11.6909 - mae: 11.6909\n",
            "Epoch 16/100\n",
            "1/1 [==============================] - 0s 17ms/step - loss: 11.5917 - mae: 11.5917\n",
            "Epoch 17/100\n",
            "1/1 [==============================] - 0s 8ms/step - loss: 11.4925 - mae: 11.4925\n",
            "Epoch 18/100\n",
            "1/1 [==============================] - 0s 16ms/step - loss: 11.3931 - mae: 11.3931\n",
            "Epoch 19/100\n",
            "1/1 [==============================] - 0s 14ms/step - loss: 11.2936 - mae: 11.2936\n",
            "Epoch 20/100\n",
            "1/1 [==============================] - 0s 9ms/step - loss: 11.1940 - mae: 11.1940\n",
            "Epoch 21/100\n",
            "1/1 [==============================] - 0s 10ms/step - loss: 11.0942 - mae: 11.0942\n",
            "Epoch 22/100\n",
            "1/1 [==============================] - 0s 11ms/step - loss: 10.9942 - mae: 10.9942\n",
            "Epoch 23/100\n",
            "1/1 [==============================] - 0s 9ms/step - loss: 10.8941 - mae: 10.8941\n",
            "Epoch 24/100\n",
            "1/1 [==============================] - 0s 11ms/step - loss: 10.7937 - mae: 10.7937\n",
            "Epoch 25/100\n",
            "1/1 [==============================] - 0s 11ms/step - loss: 10.6931 - mae: 10.6931\n",
            "Epoch 26/100\n",
            "1/1 [==============================] - 0s 11ms/step - loss: 10.5922 - mae: 10.5922\n",
            "Epoch 27/100\n",
            "1/1 [==============================] - 0s 11ms/step - loss: 10.4911 - mae: 10.4911\n",
            "Epoch 28/100\n",
            "1/1 [==============================] - 0s 11ms/step - loss: 10.3897 - mae: 10.3897\n",
            "Epoch 29/100\n",
            "1/1 [==============================] - 0s 9ms/step - loss: 10.2879 - mae: 10.2879\n",
            "Epoch 30/100\n",
            "1/1 [==============================] - 0s 9ms/step - loss: 10.1859 - mae: 10.1859\n",
            "Epoch 31/100\n",
            "1/1 [==============================] - 0s 10ms/step - loss: 10.0835 - mae: 10.0835\n",
            "Epoch 32/100\n",
            "1/1 [==============================] - 0s 10ms/step - loss: 9.9807 - mae: 9.9807\n",
            "Epoch 33/100\n",
            "1/1 [==============================] - 0s 10ms/step - loss: 9.8775 - mae: 9.8775\n",
            "Epoch 34/100\n",
            "1/1 [==============================] - 0s 9ms/step - loss: 9.7739 - mae: 9.7739\n",
            "Epoch 35/100\n",
            "1/1 [==============================] - 0s 10ms/step - loss: 9.6699 - mae: 9.6699\n",
            "Epoch 36/100\n",
            "1/1 [==============================] - 0s 9ms/step - loss: 9.5654 - mae: 9.5654\n",
            "Epoch 37/100\n",
            "1/1 [==============================] - 0s 12ms/step - loss: 9.4605 - mae: 9.4605\n",
            "Epoch 38/100\n",
            "1/1 [==============================] - 0s 10ms/step - loss: 9.3551 - mae: 9.3551\n",
            "Epoch 39/100\n",
            "1/1 [==============================] - 0s 10ms/step - loss: 9.2491 - mae: 9.2491\n",
            "Epoch 40/100\n",
            "1/1 [==============================] - 0s 9ms/step - loss: 9.1427 - mae: 9.1427\n",
            "Epoch 41/100\n",
            "1/1 [==============================] - 0s 11ms/step - loss: 9.0357 - mae: 9.0357\n",
            "Epoch 42/100\n",
            "1/1 [==============================] - 0s 12ms/step - loss: 8.9281 - mae: 8.9281\n",
            "Epoch 43/100\n",
            "1/1 [==============================] - 0s 10ms/step - loss: 8.8199 - mae: 8.8199\n",
            "Epoch 44/100\n",
            "1/1 [==============================] - 0s 8ms/step - loss: 8.7111 - mae: 8.7111\n",
            "Epoch 45/100\n",
            "1/1 [==============================] - 0s 9ms/step - loss: 8.6017 - mae: 8.6017\n",
            "Epoch 46/100\n",
            "1/1 [==============================] - 0s 9ms/step - loss: 8.4916 - mae: 8.4916\n",
            "Epoch 47/100\n",
            "1/1 [==============================] - 0s 10ms/step - loss: 8.3809 - mae: 8.3809\n",
            "Epoch 48/100\n",
            "1/1 [==============================] - 0s 9ms/step - loss: 8.2694 - mae: 8.2694\n",
            "Epoch 49/100\n",
            "1/1 [==============================] - 0s 11ms/step - loss: 8.1573 - mae: 8.1573\n",
            "Epoch 50/100\n",
            "1/1 [==============================] - 0s 11ms/step - loss: 8.0444 - mae: 8.0444\n",
            "Epoch 51/100\n",
            "1/1 [==============================] - 0s 10ms/step - loss: 7.9307 - mae: 7.9307\n",
            "Epoch 52/100\n",
            "1/1 [==============================] - 0s 9ms/step - loss: 7.8163 - mae: 7.8163\n",
            "Epoch 53/100\n",
            "1/1 [==============================] - 0s 9ms/step - loss: 7.7012 - mae: 7.7012\n",
            "Epoch 54/100\n",
            "1/1 [==============================] - 0s 11ms/step - loss: 7.5852 - mae: 7.5852\n",
            "Epoch 55/100\n",
            "1/1 [==============================] - 0s 12ms/step - loss: 7.4684 - mae: 7.4684\n",
            "Epoch 56/100\n",
            "1/1 [==============================] - 0s 9ms/step - loss: 7.3507 - mae: 7.3507\n",
            "Epoch 57/100\n",
            "1/1 [==============================] - 0s 10ms/step - loss: 7.2322 - mae: 7.2322\n",
            "Epoch 58/100\n",
            "1/1 [==============================] - 0s 9ms/step - loss: 7.1128 - mae: 7.1128\n",
            "Epoch 59/100\n",
            "1/1 [==============================] - 0s 10ms/step - loss: 6.9926 - mae: 6.9926\n",
            "Epoch 60/100\n",
            "1/1 [==============================] - 0s 10ms/step - loss: 6.8834 - mae: 6.8834\n",
            "Epoch 61/100\n",
            "1/1 [==============================] - 0s 9ms/step - loss: 6.8703 - mae: 6.8703\n",
            "Epoch 62/100\n",
            "1/1 [==============================] - 0s 11ms/step - loss: 6.8575 - mae: 6.8575\n",
            "Epoch 63/100\n",
            "1/1 [==============================] - 0s 10ms/step - loss: 6.8448 - mae: 6.8448\n",
            "Epoch 64/100\n",
            "1/1 [==============================] - 0s 11ms/step - loss: 6.8324 - mae: 6.8324\n",
            "Epoch 65/100\n",
            "1/1 [==============================] - 0s 9ms/step - loss: 6.8201 - mae: 6.8201\n",
            "Epoch 66/100\n",
            "1/1 [==============================] - 0s 10ms/step - loss: 6.8080 - mae: 6.8080\n",
            "Epoch 67/100\n",
            "1/1 [==============================] - 0s 9ms/step - loss: 6.7960 - mae: 6.7960\n",
            "Epoch 68/100\n",
            "1/1 [==============================] - 0s 11ms/step - loss: 6.7841 - mae: 6.7841\n",
            "Epoch 69/100\n",
            "1/1 [==============================] - 0s 12ms/step - loss: 6.8059 - mae: 6.8059\n",
            "Epoch 70/100\n",
            "1/1 [==============================] - 0s 10ms/step - loss: 6.8237 - mae: 6.8237\n",
            "Epoch 71/100\n",
            "1/1 [==============================] - 0s 9ms/step - loss: 6.8320 - mae: 6.8320\n",
            "Epoch 72/100\n",
            "1/1 [==============================] - 0s 9ms/step - loss: 6.8317 - mae: 6.8317\n",
            "Epoch 73/100\n",
            "1/1 [==============================] - 0s 13ms/step - loss: 6.8237 - mae: 6.8237\n",
            "Epoch 74/100\n",
            "1/1 [==============================] - 0s 10ms/step - loss: 6.8087 - mae: 6.8087\n",
            "Epoch 75/100\n",
            "1/1 [==============================] - 0s 9ms/step - loss: 6.7876 - mae: 6.7876\n",
            "Epoch 76/100\n",
            "1/1 [==============================] - 0s 10ms/step - loss: 6.7609 - mae: 6.7609\n",
            "Epoch 77/100\n",
            "1/1 [==============================] - 0s 10ms/step - loss: 6.7292 - mae: 6.7292\n",
            "Epoch 78/100\n",
            "1/1 [==============================] - 0s 17ms/step - loss: 6.6931 - mae: 6.6931\n",
            "Epoch 79/100\n",
            "1/1 [==============================] - 0s 10ms/step - loss: 6.6823 - mae: 6.6823\n",
            "Epoch 80/100\n",
            "1/1 [==============================] - 0s 10ms/step - loss: 6.6747 - mae: 6.6747\n",
            "Epoch 81/100\n",
            "1/1 [==============================] - 0s 16ms/step - loss: 6.6668 - mae: 6.6668\n",
            "Epoch 82/100\n",
            "1/1 [==============================] - 0s 11ms/step - loss: 6.6586 - mae: 6.6586\n",
            "Epoch 83/100\n",
            "1/1 [==============================] - 0s 10ms/step - loss: 6.6501 - mae: 6.6501\n",
            "Epoch 84/100\n",
            "1/1 [==============================] - 0s 10ms/step - loss: 6.6414 - mae: 6.6414\n",
            "Epoch 85/100\n",
            "1/1 [==============================] - 0s 12ms/step - loss: 6.6325 - mae: 6.6325\n",
            "Epoch 86/100\n",
            "1/1 [==============================] - 0s 9ms/step - loss: 6.6233 - mae: 6.6233\n",
            "Epoch 87/100\n",
            "1/1 [==============================] - 0s 10ms/step - loss: 6.6140 - mae: 6.6140\n",
            "Epoch 88/100\n",
            "1/1 [==============================] - 0s 10ms/step - loss: 6.6045 - mae: 6.6045\n",
            "Epoch 89/100\n",
            "1/1 [==============================] - 0s 12ms/step - loss: 6.5948 - mae: 6.5948\n",
            "Epoch 90/100\n",
            "1/1 [==============================] - 0s 14ms/step - loss: 6.5850 - mae: 6.5850\n",
            "Epoch 91/100\n",
            "1/1 [==============================] - 0s 10ms/step - loss: 6.5750 - mae: 6.5750\n",
            "Epoch 92/100\n",
            "1/1 [==============================] - 0s 10ms/step - loss: 6.5649 - mae: 6.5649\n",
            "Epoch 93/100\n",
            "1/1 [==============================] - 0s 9ms/step - loss: 6.5547 - mae: 6.5547\n",
            "Epoch 94/100\n",
            "1/1 [==============================] - 0s 9ms/step - loss: 6.5443 - mae: 6.5443\n",
            "Epoch 95/100\n",
            "1/1 [==============================] - 0s 10ms/step - loss: 6.5338 - mae: 6.5338\n",
            "Epoch 96/100\n",
            "1/1 [==============================] - 0s 10ms/step - loss: 6.5232 - mae: 6.5232\n",
            "Epoch 97/100\n",
            "1/1 [==============================] - 0s 10ms/step - loss: 6.5125 - mae: 6.5125\n",
            "Epoch 98/100\n",
            "1/1 [==============================] - 0s 8ms/step - loss: 6.5016 - mae: 6.5016\n",
            "Epoch 99/100\n",
            "1/1 [==============================] - 0s 9ms/step - loss: 6.4907 - mae: 6.4907\n",
            "Epoch 100/100\n",
            "1/1 [==============================] - 0s 10ms/step - loss: 6.4797 - mae: 6.4797\n"
          ]
        },
        {
          "output_type": "execute_result",
          "data": {
            "text/plain": [
              "<keras.src.callbacks.History at 0x7f2a443c73a0>"
            ]
          },
          "metadata": {},
          "execution_count": 15
        }
      ]
    },
    {
      "cell_type": "code",
      "source": [
        "model.predict([17.0])"
      ],
      "metadata": {
        "colab": {
          "base_uri": "https://localhost:8080/"
        },
        "id": "U-8S3wE3tA8p",
        "outputId": "81e99b8b-2f5e-4564-c06a-611e4500e176"
      },
      "execution_count": 16,
      "outputs": [
        {
          "output_type": "stream",
          "name": "stderr",
          "text": [
            "WARNING:tensorflow:6 out of the last 6 calls to <function Model.make_predict_function.<locals>.predict_function at 0x7f2a44245510> triggered tf.function retracing. Tracing is expensive and the excessive number of tracings could be due to (1) creating @tf.function repeatedly in a loop, (2) passing tensors with different shapes, (3) passing Python objects instead of tensors. For (1), please define your @tf.function outside of the loop. For (2), @tf.function has reduce_retracing=True option that can avoid unnecessary retracing. For (3), please refer to https://www.tensorflow.org/guide/function#controlling_retracing and https://www.tensorflow.org/api_docs/python/tf/function for  more details.\n"
          ]
        },
        {
          "output_type": "stream",
          "name": "stdout",
          "text": [
            "1/1 [==============================] - 0s 91ms/step\n"
          ]
        },
        {
          "output_type": "execute_result",
          "data": {
            "text/plain": [
              "array([[30.39368]], dtype=float32)"
            ]
          },
          "metadata": {},
          "execution_count": 16
        }
      ]
    },
    {
      "cell_type": "markdown",
      "source": [
        "- By Changing the Learning Rate of the Optimizers"
      ],
      "metadata": {
        "id": "-xqwl48PtC0x"
      }
    },
    {
      "cell_type": "code",
      "source": [
        "model = tf.keras.Sequential([\n",
        "    tf.keras.layers.Dense(100, activation = None),\n",
        "    tf.keras.layers.Dense(1)\n",
        "])\n",
        "\n",
        "model.compile(loss = tf.keras.losses.mae,\n",
        "              optimizer = tf.keras.optimizers.Adam(learning_rate = 0.02),\n",
        "              metrics = ['mae'])\n",
        "\n",
        "model.fit(tf.expand_dims(X, axis = -1), y, epochs = 100)"
      ],
      "metadata": {
        "colab": {
          "base_uri": "https://localhost:8080/"
        },
        "id": "wN15l7wTtjxk",
        "outputId": "4cdc0e14-ba9c-4695-a54f-e02c97e69902"
      },
      "execution_count": 17,
      "outputs": [
        {
          "output_type": "stream",
          "name": "stdout",
          "text": [
            "Epoch 1/100\n",
            "1/1 [==============================] - 1s 916ms/step - loss: 13.3658 - mae: 13.3658\n",
            "Epoch 2/100\n",
            "1/1 [==============================] - 0s 14ms/step - loss: 11.4675 - mae: 11.4675\n",
            "Epoch 3/100\n",
            "1/1 [==============================] - 0s 10ms/step - loss: 9.5654 - mae: 9.5654\n",
            "Epoch 4/100\n",
            "1/1 [==============================] - 0s 9ms/step - loss: 7.6034 - mae: 7.6034\n",
            "Epoch 5/100\n",
            "1/1 [==============================] - 0s 10ms/step - loss: 7.1409 - mae: 7.1409\n",
            "Epoch 6/100\n",
            "1/1 [==============================] - 0s 11ms/step - loss: 8.0942 - mae: 8.0942\n",
            "Epoch 7/100\n",
            "1/1 [==============================] - 0s 14ms/step - loss: 8.1208 - mae: 8.1208\n",
            "Epoch 8/100\n",
            "1/1 [==============================] - 0s 10ms/step - loss: 7.4844 - mae: 7.4844\n",
            "Epoch 9/100\n",
            "1/1 [==============================] - 0s 10ms/step - loss: 6.6321 - mae: 6.6321\n",
            "Epoch 10/100\n",
            "1/1 [==============================] - 0s 12ms/step - loss: 5.9973 - mae: 5.9973\n",
            "Epoch 11/100\n",
            "1/1 [==============================] - 0s 12ms/step - loss: 5.9933 - mae: 5.9933\n",
            "Epoch 12/100\n",
            "1/1 [==============================] - 0s 9ms/step - loss: 6.0853 - mae: 6.0853\n",
            "Epoch 13/100\n",
            "1/1 [==============================] - 0s 9ms/step - loss: 5.8616 - mae: 5.8616\n",
            "Epoch 14/100\n",
            "1/1 [==============================] - 0s 10ms/step - loss: 5.3715 - mae: 5.3715\n",
            "Epoch 15/100\n",
            "1/1 [==============================] - 0s 9ms/step - loss: 5.0364 - mae: 5.0364\n",
            "Epoch 16/100\n",
            "1/1 [==============================] - 0s 9ms/step - loss: 5.0652 - mae: 5.0652\n",
            "Epoch 17/100\n",
            "1/1 [==============================] - 0s 10ms/step - loss: 5.0297 - mae: 5.0297\n",
            "Epoch 18/100\n",
            "1/1 [==============================] - 0s 9ms/step - loss: 4.8180 - mae: 4.8180\n",
            "Epoch 19/100\n",
            "1/1 [==============================] - 0s 14ms/step - loss: 4.3664 - mae: 4.3664\n",
            "Epoch 20/100\n",
            "1/1 [==============================] - 0s 9ms/step - loss: 3.8854 - mae: 3.8854\n",
            "Epoch 21/100\n",
            "1/1 [==============================] - 0s 9ms/step - loss: 3.5314 - mae: 3.5314\n",
            "Epoch 22/100\n",
            "1/1 [==============================] - 0s 9ms/step - loss: 3.5832 - mae: 3.5832\n",
            "Epoch 23/100\n",
            "1/1 [==============================] - 0s 9ms/step - loss: 3.3454 - mae: 3.3454\n",
            "Epoch 24/100\n",
            "1/1 [==============================] - 0s 9ms/step - loss: 2.7769 - mae: 2.7769\n",
            "Epoch 25/100\n",
            "1/1 [==============================] - 0s 9ms/step - loss: 2.0299 - mae: 2.0299\n",
            "Epoch 26/100\n",
            "1/1 [==============================] - 0s 10ms/step - loss: 1.9451 - mae: 1.9451\n",
            "Epoch 27/100\n",
            "1/1 [==============================] - 0s 9ms/step - loss: 1.6894 - mae: 1.6894\n",
            "Epoch 28/100\n",
            "1/1 [==============================] - 0s 9ms/step - loss: 0.9025 - mae: 0.9025\n",
            "Epoch 29/100\n",
            "1/1 [==============================] - 0s 10ms/step - loss: 0.5375 - mae: 0.5375\n",
            "Epoch 30/100\n",
            "1/1 [==============================] - 0s 9ms/step - loss: 0.9519 - mae: 0.9519\n",
            "Epoch 31/100\n",
            "1/1 [==============================] - 0s 9ms/step - loss: 0.8757 - mae: 0.8757\n",
            "Epoch 32/100\n",
            "1/1 [==============================] - 0s 9ms/step - loss: 1.4453 - mae: 1.4453\n",
            "Epoch 33/100\n",
            "1/1 [==============================] - 0s 9ms/step - loss: 1.7418 - mae: 1.7418\n",
            "Epoch 34/100\n",
            "1/1 [==============================] - 0s 9ms/step - loss: 1.5395 - mae: 1.5395\n",
            "Epoch 35/100\n",
            "1/1 [==============================] - 0s 9ms/step - loss: 1.0002 - mae: 1.0002\n",
            "Epoch 36/100\n",
            "1/1 [==============================] - 0s 9ms/step - loss: 1.2002 - mae: 1.2002\n",
            "Epoch 37/100\n",
            "1/1 [==============================] - 0s 9ms/step - loss: 1.0834 - mae: 1.0834\n",
            "Epoch 38/100\n",
            "1/1 [==============================] - 0s 10ms/step - loss: 0.4911 - mae: 0.4911\n",
            "Epoch 39/100\n",
            "1/1 [==============================] - 0s 9ms/step - loss: 0.5294 - mae: 0.5294\n",
            "Epoch 40/100\n",
            "1/1 [==============================] - 0s 9ms/step - loss: 0.8106 - mae: 0.8106\n",
            "Epoch 41/100\n",
            "1/1 [==============================] - 0s 9ms/step - loss: 0.6256 - mae: 0.6256\n",
            "Epoch 42/100\n",
            "1/1 [==============================] - 0s 9ms/step - loss: 0.7717 - mae: 0.7717\n",
            "Epoch 43/100\n",
            "1/1 [==============================] - 0s 10ms/step - loss: 0.9369 - mae: 0.9369\n",
            "Epoch 44/100\n",
            "1/1 [==============================] - 0s 10ms/step - loss: 0.7631 - mae: 0.7631\n",
            "Epoch 45/100\n",
            "1/1 [==============================] - 0s 10ms/step - loss: 0.4792 - mae: 0.4792\n",
            "Epoch 46/100\n",
            "1/1 [==============================] - 0s 9ms/step - loss: 0.4537 - mae: 0.4537\n",
            "Epoch 47/100\n",
            "1/1 [==============================] - 0s 9ms/step - loss: 0.0683 - mae: 0.0683\n",
            "Epoch 48/100\n",
            "1/1 [==============================] - 0s 9ms/step - loss: 0.6110 - mae: 0.6110\n",
            "Epoch 49/100\n",
            "1/1 [==============================] - 0s 9ms/step - loss: 0.7557 - mae: 0.7557\n",
            "Epoch 50/100\n",
            "1/1 [==============================] - 0s 9ms/step - loss: 0.5635 - mae: 0.5635\n",
            "Epoch 51/100\n",
            "1/1 [==============================] - 0s 9ms/step - loss: 0.8045 - mae: 0.8045\n",
            "Epoch 52/100\n",
            "1/1 [==============================] - 0s 11ms/step - loss: 0.8052 - mae: 0.8052\n",
            "Epoch 53/100\n",
            "1/1 [==============================] - 0s 10ms/step - loss: 0.4480 - mae: 0.4480\n",
            "Epoch 54/100\n",
            "1/1 [==============================] - 0s 10ms/step - loss: 0.5619 - mae: 0.5619\n",
            "Epoch 55/100\n",
            "1/1 [==============================] - 0s 9ms/step - loss: 0.6012 - mae: 0.6012\n",
            "Epoch 56/100\n",
            "1/1 [==============================] - 0s 9ms/step - loss: 0.3703 - mae: 0.3703\n",
            "Epoch 57/100\n",
            "1/1 [==============================] - 0s 10ms/step - loss: 0.5781 - mae: 0.5781\n",
            "Epoch 58/100\n",
            "1/1 [==============================] - 0s 10ms/step - loss: 0.7808 - mae: 0.7808\n",
            "Epoch 59/100\n",
            "1/1 [==============================] - 0s 10ms/step - loss: 0.6039 - mae: 0.6039\n",
            "Epoch 60/100\n",
            "1/1 [==============================] - 0s 10ms/step - loss: 0.3541 - mae: 0.3541\n",
            "Epoch 61/100\n",
            "1/1 [==============================] - 0s 12ms/step - loss: 0.3694 - mae: 0.3694\n",
            "Epoch 62/100\n",
            "1/1 [==============================] - 0s 13ms/step - loss: 0.1032 - mae: 0.1032\n",
            "Epoch 63/100\n",
            "1/1 [==============================] - 0s 11ms/step - loss: 0.5546 - mae: 0.5546\n",
            "Epoch 64/100\n",
            "1/1 [==============================] - 0s 12ms/step - loss: 0.7458 - mae: 0.7458\n",
            "Epoch 65/100\n",
            "1/1 [==============================] - 0s 10ms/step - loss: 0.5877 - mae: 0.5877\n",
            "Epoch 66/100\n",
            "1/1 [==============================] - 0s 12ms/step - loss: 0.3081 - mae: 0.3081\n",
            "Epoch 67/100\n",
            "1/1 [==============================] - 0s 10ms/step - loss: 0.4220 - mae: 0.4220\n",
            "Epoch 68/100\n",
            "1/1 [==============================] - 0s 10ms/step - loss: 0.1456 - mae: 0.1456\n",
            "Epoch 69/100\n",
            "1/1 [==============================] - 0s 9ms/step - loss: 0.5374 - mae: 0.5374\n",
            "Epoch 70/100\n",
            "1/1 [==============================] - 0s 13ms/step - loss: 0.7099 - mae: 0.7099\n",
            "Epoch 71/100\n",
            "1/1 [==============================] - 0s 11ms/step - loss: 0.4610 - mae: 0.4610\n",
            "Epoch 72/100\n",
            "1/1 [==============================] - 0s 9ms/step - loss: 0.4496 - mae: 0.4496\n",
            "Epoch 73/100\n",
            "1/1 [==============================] - 0s 10ms/step - loss: 0.5679 - mae: 0.5679\n",
            "Epoch 74/100\n",
            "1/1 [==============================] - 0s 10ms/step - loss: 0.4222 - mae: 0.4222\n",
            "Epoch 75/100\n",
            "1/1 [==============================] - 0s 9ms/step - loss: 0.1102 - mae: 0.1102\n",
            "Epoch 76/100\n",
            "1/1 [==============================] - 0s 10ms/step - loss: 0.2420 - mae: 0.2420\n",
            "Epoch 77/100\n",
            "1/1 [==============================] - 0s 10ms/step - loss: 0.0487 - mae: 0.0487\n",
            "Epoch 78/100\n",
            "1/1 [==============================] - 0s 10ms/step - loss: 0.4827 - mae: 0.4827\n",
            "Epoch 79/100\n",
            "1/1 [==============================] - 0s 10ms/step - loss: 0.5446 - mae: 0.5446\n",
            "Epoch 80/100\n",
            "1/1 [==============================] - 0s 11ms/step - loss: 0.3324 - mae: 0.3324\n",
            "Epoch 81/100\n",
            "1/1 [==============================] - 0s 9ms/step - loss: 0.5362 - mae: 0.5362\n",
            "Epoch 82/100\n",
            "1/1 [==============================] - 0s 11ms/step - loss: 0.6765 - mae: 0.6765\n",
            "Epoch 83/100\n",
            "1/1 [==============================] - 0s 10ms/step - loss: 0.3908 - mae: 0.3908\n",
            "Epoch 84/100\n",
            "1/1 [==============================] - 0s 10ms/step - loss: 0.2929 - mae: 0.2929\n",
            "Epoch 85/100\n",
            "1/1 [==============================] - 0s 10ms/step - loss: 0.4646 - mae: 0.4646\n",
            "Epoch 86/100\n",
            "1/1 [==============================] - 0s 10ms/step - loss: 0.2322 - mae: 0.2322\n",
            "Epoch 87/100\n",
            "1/1 [==============================] - 0s 10ms/step - loss: 0.4383 - mae: 0.4383\n",
            "Epoch 88/100\n",
            "1/1 [==============================] - 0s 10ms/step - loss: 0.6053 - mae: 0.6053\n",
            "Epoch 89/100\n",
            "1/1 [==============================] - 0s 10ms/step - loss: 0.3483 - mae: 0.3483\n",
            "Epoch 90/100\n",
            "1/1 [==============================] - 0s 11ms/step - loss: 0.2804 - mae: 0.2804\n",
            "Epoch 91/100\n",
            "1/1 [==============================] - 0s 10ms/step - loss: 0.4374 - mae: 0.4374\n",
            "Epoch 92/100\n",
            "1/1 [==============================] - 0s 9ms/step - loss: 0.2383 - mae: 0.2383\n",
            "Epoch 93/100\n",
            "1/1 [==============================] - 0s 10ms/step - loss: 0.3597 - mae: 0.3597\n",
            "Epoch 94/100\n",
            "1/1 [==============================] - 0s 11ms/step - loss: 0.4277 - mae: 0.4277\n",
            "Epoch 95/100\n",
            "1/1 [==============================] - 0s 9ms/step - loss: 0.1038 - mae: 0.1038\n",
            "Epoch 96/100\n",
            "1/1 [==============================] - 0s 10ms/step - loss: 0.5763 - mae: 0.5763\n",
            "Epoch 97/100\n",
            "1/1 [==============================] - 0s 10ms/step - loss: 0.8030 - mae: 0.8030\n",
            "Epoch 98/100\n",
            "1/1 [==============================] - 0s 11ms/step - loss: 0.6383 - mae: 0.6383\n",
            "Epoch 99/100\n",
            "1/1 [==============================] - 0s 10ms/step - loss: 0.1277 - mae: 0.1277\n",
            "Epoch 100/100\n",
            "1/1 [==============================] - 0s 10ms/step - loss: 0.7182 - mae: 0.7182\n"
          ]
        },
        {
          "output_type": "execute_result",
          "data": {
            "text/plain": [
              "<keras.src.callbacks.History at 0x7f2a441546d0>"
            ]
          },
          "metadata": {},
          "execution_count": 17
        }
      ]
    },
    {
      "cell_type": "code",
      "source": [
        "model.predict([17.0])"
      ],
      "metadata": {
        "colab": {
          "base_uri": "https://localhost:8080/"
        },
        "id": "uSQnkm12trVc",
        "outputId": "5fa1a43d-8bf4-40f3-8516-986866e2d884"
      },
      "execution_count": 18,
      "outputs": [
        {
          "output_type": "stream",
          "name": "stdout",
          "text": [
            "1/1 [==============================] - 0s 72ms/step\n"
          ]
        },
        {
          "output_type": "execute_result",
          "data": {
            "text/plain": [
              "array([[29.75766]], dtype=float32)"
            ]
          },
          "metadata": {},
          "execution_count": 18
        }
      ]
    },
    {
      "cell_type": "markdown",
      "source": [
        "It can be understood that the `learning_rate` is the most important amongst all other High Parameters"
      ],
      "metadata": {
        "id": "2MVnGJaOtszu"
      }
    },
    {
      "cell_type": "markdown",
      "source": [
        "- By fitting on more data\n",
        "\n",
        "(This can be tried out on a real problem)"
      ],
      "metadata": {
        "id": "7pa6UamguQJP"
      }
    },
    {
      "cell_type": "markdown",
      "source": [
        "- By adding layers"
      ],
      "metadata": {
        "id": "YAwGxWEXudC_"
      }
    },
    {
      "cell_type": "code",
      "source": [
        "model = tf.keras.Sequential([\n",
        "    tf.keras.layers.Dense(100, activation = \"relu\"),\n",
        "    tf.keras.layers.Dense(100, activation = \"relu\"),\n",
        "    tf.keras.layers.Dense(100, activation = \"relu\"),\n",
        "    tf.keras.layers.Dense(1)\n",
        "])\n",
        "\n",
        "model.compile(loss = tf.keras.losses.mae,\n",
        "              optimizer = tf.keras.optimizers.Adam(learning_rate = 0.02),\n",
        "              metrics = ['mae'])\n",
        "\n",
        "model.fit(tf.expand_dims(X, axis = -1), y, epochs = 100)"
      ],
      "metadata": {
        "colab": {
          "base_uri": "https://localhost:8080/"
        },
        "id": "4e1XFMoSuomh",
        "outputId": "c572931c-985f-45f4-80ae-9d26413fb9c0"
      },
      "execution_count": 19,
      "outputs": [
        {
          "output_type": "stream",
          "name": "stdout",
          "text": [
            "Epoch 1/100\n",
            "1/1 [==============================] - 1s 1s/step - loss: 13.7760 - mae: 13.7760\n",
            "Epoch 2/100\n",
            "1/1 [==============================] - 0s 10ms/step - loss: 8.0278 - mae: 8.0278\n",
            "Epoch 3/100\n",
            "1/1 [==============================] - 0s 10ms/step - loss: 6.6664 - mae: 6.6664\n",
            "Epoch 4/100\n",
            "1/1 [==============================] - 0s 9ms/step - loss: 4.6462 - mae: 4.6462\n",
            "Epoch 5/100\n",
            "1/1 [==============================] - 0s 10ms/step - loss: 5.4667 - mae: 5.4667\n",
            "Epoch 6/100\n",
            "1/1 [==============================] - 0s 10ms/step - loss: 5.5098 - mae: 5.5098\n",
            "Epoch 7/100\n",
            "1/1 [==============================] - 0s 9ms/step - loss: 3.8557 - mae: 3.8557\n",
            "Epoch 8/100\n",
            "1/1 [==============================] - 0s 9ms/step - loss: 4.4265 - mae: 4.4265\n",
            "Epoch 9/100\n",
            "1/1 [==============================] - 0s 9ms/step - loss: 4.1399 - mae: 4.1399\n",
            "Epoch 10/100\n",
            "1/1 [==============================] - 0s 11ms/step - loss: 3.4301 - mae: 3.4301\n",
            "Epoch 11/100\n",
            "1/1 [==============================] - 0s 8ms/step - loss: 3.7046 - mae: 3.7046\n",
            "Epoch 12/100\n",
            "1/1 [==============================] - 0s 8ms/step - loss: 3.2576 - mae: 3.2576\n",
            "Epoch 13/100\n",
            "1/1 [==============================] - 0s 8ms/step - loss: 2.9991 - mae: 2.9991\n",
            "Epoch 14/100\n",
            "1/1 [==============================] - 0s 9ms/step - loss: 2.9306 - mae: 2.9306\n",
            "Epoch 15/100\n",
            "1/1 [==============================] - 0s 10ms/step - loss: 2.9780 - mae: 2.9780\n",
            "Epoch 16/100\n",
            "1/1 [==============================] - 0s 9ms/step - loss: 2.2923 - mae: 2.2923\n",
            "Epoch 17/100\n",
            "1/1 [==============================] - 0s 9ms/step - loss: 2.1985 - mae: 2.1985\n",
            "Epoch 18/100\n",
            "1/1 [==============================] - 0s 9ms/step - loss: 1.8411 - mae: 1.8411\n",
            "Epoch 19/100\n",
            "1/1 [==============================] - 0s 9ms/step - loss: 2.0733 - mae: 2.0733\n",
            "Epoch 20/100\n",
            "1/1 [==============================] - 0s 13ms/step - loss: 1.1336 - mae: 1.1336\n",
            "Epoch 21/100\n",
            "1/1 [==============================] - 0s 10ms/step - loss: 2.1771 - mae: 2.1771\n",
            "Epoch 22/100\n",
            "1/1 [==============================] - 0s 16ms/step - loss: 1.1573 - mae: 1.1573\n",
            "Epoch 23/100\n",
            "1/1 [==============================] - 0s 10ms/step - loss: 2.6828 - mae: 2.6828\n",
            "Epoch 24/100\n",
            "1/1 [==============================] - 0s 11ms/step - loss: 2.5009 - mae: 2.5009\n",
            "Epoch 25/100\n",
            "1/1 [==============================] - 0s 10ms/step - loss: 0.6788 - mae: 0.6788\n",
            "Epoch 26/100\n",
            "1/1 [==============================] - 0s 12ms/step - loss: 1.0132 - mae: 1.0132\n",
            "Epoch 27/100\n",
            "1/1 [==============================] - 0s 9ms/step - loss: 0.7464 - mae: 0.7464\n",
            "Epoch 28/100\n",
            "1/1 [==============================] - 0s 11ms/step - loss: 0.5392 - mae: 0.5392\n",
            "Epoch 29/100\n",
            "1/1 [==============================] - 0s 10ms/step - loss: 1.1309 - mae: 1.1309\n",
            "Epoch 30/100\n",
            "1/1 [==============================] - 0s 12ms/step - loss: 0.7437 - mae: 0.7437\n",
            "Epoch 31/100\n",
            "1/1 [==============================] - 0s 10ms/step - loss: 1.3087 - mae: 1.3087\n",
            "Epoch 32/100\n",
            "1/1 [==============================] - 0s 11ms/step - loss: 1.2065 - mae: 1.2065\n",
            "Epoch 33/100\n",
            "1/1 [==============================] - 0s 10ms/step - loss: 0.6710 - mae: 0.6710\n",
            "Epoch 34/100\n",
            "1/1 [==============================] - 0s 10ms/step - loss: 0.6767 - mae: 0.6767\n",
            "Epoch 35/100\n",
            "1/1 [==============================] - 0s 10ms/step - loss: 0.9864 - mae: 0.9864\n",
            "Epoch 36/100\n",
            "1/1 [==============================] - 0s 12ms/step - loss: 0.6240 - mae: 0.6240\n",
            "Epoch 37/100\n",
            "1/1 [==============================] - 0s 13ms/step - loss: 0.9068 - mae: 0.9068\n",
            "Epoch 38/100\n",
            "1/1 [==============================] - 0s 11ms/step - loss: 0.6506 - mae: 0.6506\n",
            "Epoch 39/100\n",
            "1/1 [==============================] - 0s 10ms/step - loss: 1.0145 - mae: 1.0145\n",
            "Epoch 40/100\n",
            "1/1 [==============================] - 0s 14ms/step - loss: 0.8926 - mae: 0.8926\n",
            "Epoch 41/100\n",
            "1/1 [==============================] - 0s 12ms/step - loss: 0.8343 - mae: 0.8343\n",
            "Epoch 42/100\n",
            "1/1 [==============================] - 0s 10ms/step - loss: 0.8440 - mae: 0.8440\n",
            "Epoch 43/100\n",
            "1/1 [==============================] - 0s 10ms/step - loss: 0.5539 - mae: 0.5539\n",
            "Epoch 44/100\n",
            "1/1 [==============================] - 0s 14ms/step - loss: 0.3106 - mae: 0.3106\n",
            "Epoch 45/100\n",
            "1/1 [==============================] - 0s 12ms/step - loss: 1.0620 - mae: 1.0620\n",
            "Epoch 46/100\n",
            "1/1 [==============================] - 0s 10ms/step - loss: 0.9841 - mae: 0.9841\n",
            "Epoch 47/100\n",
            "1/1 [==============================] - 0s 12ms/step - loss: 0.4109 - mae: 0.4109\n",
            "Epoch 48/100\n",
            "1/1 [==============================] - 0s 11ms/step - loss: 0.2898 - mae: 0.2898\n",
            "Epoch 49/100\n",
            "1/1 [==============================] - 0s 10ms/step - loss: 1.1610 - mae: 1.1610\n",
            "Epoch 50/100\n",
            "1/1 [==============================] - 0s 11ms/step - loss: 1.1973 - mae: 1.1973\n",
            "Epoch 51/100\n",
            "1/1 [==============================] - 0s 10ms/step - loss: 0.3323 - mae: 0.3323\n",
            "Epoch 52/100\n",
            "1/1 [==============================] - 0s 12ms/step - loss: 1.8275 - mae: 1.8275\n",
            "Epoch 53/100\n",
            "1/1 [==============================] - 0s 11ms/step - loss: 1.9384 - mae: 1.9384\n",
            "Epoch 54/100\n",
            "1/1 [==============================] - 0s 11ms/step - loss: 0.9454 - mae: 0.9454\n",
            "Epoch 55/100\n",
            "1/1 [==============================] - 0s 10ms/step - loss: 1.6572 - mae: 1.6572\n",
            "Epoch 56/100\n",
            "1/1 [==============================] - 0s 10ms/step - loss: 2.3551 - mae: 2.3551\n",
            "Epoch 57/100\n",
            "1/1 [==============================] - 0s 11ms/step - loss: 2.0104 - mae: 2.0104\n",
            "Epoch 58/100\n",
            "1/1 [==============================] - 0s 10ms/step - loss: 0.7101 - mae: 0.7101\n",
            "Epoch 59/100\n",
            "1/1 [==============================] - 0s 11ms/step - loss: 1.7906 - mae: 1.7906\n",
            "Epoch 60/100\n",
            "1/1 [==============================] - 0s 10ms/step - loss: 2.6725 - mae: 2.6725\n",
            "Epoch 61/100\n",
            "1/1 [==============================] - 0s 11ms/step - loss: 1.8456 - mae: 1.8456\n",
            "Epoch 62/100\n",
            "1/1 [==============================] - 0s 10ms/step - loss: 0.3777 - mae: 0.3777\n",
            "Epoch 63/100\n",
            "1/1 [==============================] - 0s 11ms/step - loss: 1.5289 - mae: 1.5289\n",
            "Epoch 64/100\n",
            "1/1 [==============================] - 0s 10ms/step - loss: 1.4257 - mae: 1.4257\n",
            "Epoch 65/100\n",
            "1/1 [==============================] - 0s 12ms/step - loss: 0.3432 - mae: 0.3432\n",
            "Epoch 66/100\n",
            "1/1 [==============================] - 0s 10ms/step - loss: 1.2479 - mae: 1.2479\n",
            "Epoch 67/100\n",
            "1/1 [==============================] - 0s 10ms/step - loss: 1.3297 - mae: 1.3297\n",
            "Epoch 68/100\n",
            "1/1 [==============================] - 0s 11ms/step - loss: 0.1856 - mae: 0.1856\n",
            "Epoch 69/100\n",
            "1/1 [==============================] - 0s 10ms/step - loss: 1.2863 - mae: 1.2863\n",
            "Epoch 70/100\n",
            "1/1 [==============================] - 0s 11ms/step - loss: 1.4775 - mae: 1.4775\n",
            "Epoch 71/100\n",
            "1/1 [==============================] - 0s 10ms/step - loss: 0.8312 - mae: 0.8312\n",
            "Epoch 72/100\n",
            "1/1 [==============================] - 0s 10ms/step - loss: 0.9184 - mae: 0.9184\n",
            "Epoch 73/100\n",
            "1/1 [==============================] - 0s 12ms/step - loss: 1.1631 - mae: 1.1631\n",
            "Epoch 74/100\n",
            "1/1 [==============================] - 0s 10ms/step - loss: 0.2318 - mae: 0.2318\n",
            "Epoch 75/100\n",
            "1/1 [==============================] - 0s 10ms/step - loss: 0.9652 - mae: 0.9652\n",
            "Epoch 76/100\n",
            "1/1 [==============================] - 0s 11ms/step - loss: 0.8061 - mae: 0.8061\n",
            "Epoch 77/100\n",
            "1/1 [==============================] - 0s 13ms/step - loss: 0.4169 - mae: 0.4169\n",
            "Epoch 78/100\n",
            "1/1 [==============================] - 0s 12ms/step - loss: 0.3590 - mae: 0.3590\n",
            "Epoch 79/100\n",
            "1/1 [==============================] - 0s 11ms/step - loss: 0.8894 - mae: 0.8894\n",
            "Epoch 80/100\n",
            "1/1 [==============================] - 0s 10ms/step - loss: 0.9156 - mae: 0.9156\n",
            "Epoch 81/100\n",
            "1/1 [==============================] - 0s 10ms/step - loss: 0.1440 - mae: 0.1440\n",
            "Epoch 82/100\n",
            "1/1 [==============================] - 0s 11ms/step - loss: 0.4220 - mae: 0.4220\n",
            "Epoch 83/100\n",
            "1/1 [==============================] - 0s 10ms/step - loss: 0.4196 - mae: 0.4196\n",
            "Epoch 84/100\n",
            "1/1 [==============================] - 0s 11ms/step - loss: 0.2483 - mae: 0.2483\n",
            "Epoch 85/100\n",
            "1/1 [==============================] - 0s 13ms/step - loss: 1.0027 - mae: 1.0027\n",
            "Epoch 86/100\n",
            "1/1 [==============================] - 0s 11ms/step - loss: 0.9658 - mae: 0.9658\n",
            "Epoch 87/100\n",
            "1/1 [==============================] - 0s 12ms/step - loss: 0.2498 - mae: 0.2498\n",
            "Epoch 88/100\n",
            "1/1 [==============================] - 0s 10ms/step - loss: 0.6797 - mae: 0.6797\n",
            "Epoch 89/100\n",
            "1/1 [==============================] - 0s 10ms/step - loss: 0.2093 - mae: 0.2093\n",
            "Epoch 90/100\n",
            "1/1 [==============================] - 0s 11ms/step - loss: 0.7603 - mae: 0.7603\n",
            "Epoch 91/100\n",
            "1/1 [==============================] - 0s 10ms/step - loss: 0.4539 - mae: 0.4539\n",
            "Epoch 92/100\n",
            "1/1 [==============================] - 0s 11ms/step - loss: 0.8912 - mae: 0.8912\n",
            "Epoch 93/100\n",
            "1/1 [==============================] - 0s 16ms/step - loss: 1.0715 - mae: 1.0715\n",
            "Epoch 94/100\n",
            "1/1 [==============================] - 0s 13ms/step - loss: 0.2928 - mae: 0.2928\n",
            "Epoch 95/100\n",
            "1/1 [==============================] - 0s 10ms/step - loss: 1.5287 - mae: 1.5287\n",
            "Epoch 96/100\n",
            "1/1 [==============================] - 0s 18ms/step - loss: 2.0107 - mae: 2.0107\n",
            "Epoch 97/100\n",
            "1/1 [==============================] - 0s 16ms/step - loss: 1.1623 - mae: 1.1623\n",
            "Epoch 98/100\n",
            "1/1 [==============================] - 0s 12ms/step - loss: 0.6885 - mae: 0.6885\n",
            "Epoch 99/100\n",
            "1/1 [==============================] - 0s 9ms/step - loss: 1.2942 - mae: 1.2942\n",
            "Epoch 100/100\n",
            "1/1 [==============================] - 0s 9ms/step - loss: 0.9819 - mae: 0.9819\n"
          ]
        },
        {
          "output_type": "execute_result",
          "data": {
            "text/plain": [
              "<keras.src.callbacks.History at 0x7f2a2f7608e0>"
            ]
          },
          "metadata": {},
          "execution_count": 19
        }
      ]
    },
    {
      "cell_type": "code",
      "source": [
        "model.predict([21.0])"
      ],
      "metadata": {
        "colab": {
          "base_uri": "https://localhost:8080/"
        },
        "id": "ARNChGMeuu3D",
        "outputId": "5317ded2-2356-460c-fb8d-f77e82fb0b85"
      },
      "execution_count": 20,
      "outputs": [
        {
          "output_type": "stream",
          "name": "stdout",
          "text": [
            "1/1 [==============================] - 0s 88ms/step\n"
          ]
        },
        {
          "output_type": "execute_result",
          "data": {
            "text/plain": [
              "array([[32.60361]], dtype=float32)"
            ]
          },
          "metadata": {},
          "execution_count": 20
        }
      ]
    },
    {
      "cell_type": "code",
      "source": [],
      "metadata": {
        "id": "-A9Q3TmI0bz8"
      },
      "execution_count": 20,
      "outputs": []
    }
  ]
}